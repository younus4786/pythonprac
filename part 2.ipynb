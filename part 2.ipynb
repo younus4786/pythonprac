{
 "cells": [
  {
   "cell_type": "markdown",
   "id": "d94933ad-e4d5-4930-97f1-7fd60c7b513e",
   "metadata": {},
   "source": [
    "# python weight converter"
   ]
  },
  {
   "cell_type": "code",
   "execution_count": null,
   "id": "7dd305d8-21c1-4922-b38a-cf199279374e",
   "metadata": {},
   "outputs": [],
   "source": []
  }
 ],
 "metadata": {
  "kernelspec": {
   "display_name": "Python 3 (ipykernel)",
   "language": "python",
   "name": "python3"
  },
  "language_info": {
   "codemirror_mode": {
    "name": "ipython",
    "version": 3
   },
   "file_extension": ".py",
   "mimetype": "text/x-python",
   "name": "python",
   "nbconvert_exporter": "python",
   "pygments_lexer": "ipython3",
   "version": "3.11.6"
  }
 },
 "nbformat": 4,
 "nbformat_minor": 5
}
