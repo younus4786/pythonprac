{
 "cells": [
  {
   "cell_type": "code",
   "execution_count": 5,
   "id": "f2003645-d7e4-416f-b1c8-a8a0f6657bbe",
   "metadata": {},
   "outputs": [
    {
     "data": {
      "text/plain": [
       "'saif\\n\\nsafwan\\n\\nhuda'"
      ]
     },
     "execution_count": 5,
     "metadata": {},
     "output_type": "execute_result"
    }
   ],
   "source": [
    "\"\"\"saif\\n\n",
    "safwan\\n\n",
    "huda\"\"\""
   ]
  },
  {
   "cell_type": "code",
   "execution_count": 7,
   "id": "8a83b497-1d23-441c-9a0f-cdabd8b6150b",
   "metadata": {},
   "outputs": [
    {
     "ename": "SyntaxError",
     "evalue": "unexpected character after line continuation character (3096537028.py, line 1)",
     "output_type": "error",
     "traceback": [
      "\u001b[0;36m  Cell \u001b[0;32mIn[7], line 1\u001b[0;36m\u001b[0m\n\u001b[0;31m    ''mohammed\\nsaif''\u001b[0m\n\u001b[0m               ^\u001b[0m\n\u001b[0;31mSyntaxError\u001b[0m\u001b[0;31m:\u001b[0m unexpected character after line continuation character\n"
     ]
    }
   ],
   "source": [
    "''mohammed\\nsaif''"
   ]
  },
  {
   "cell_type": "code",
   "execution_count": 8,
   "id": "b0e550d6-1823-4ecc-b9b1-a22363000760",
   "metadata": {},
   "outputs": [
    {
     "name": "stdout",
     "output_type": "stream",
     "text": [
      "hello\n"
     ]
    }
   ],
   "source": [
    "print('hello')"
   ]
  },
  {
   "cell_type": "markdown",
   "id": "debaeac0-e1cb-413d-bd36-3b99d12c1547",
   "metadata": {},
   "source": [
    "10%5"
   ]
  },
  {
   "cell_type": "code",
   "execution_count": 9,
   "id": "5bf618ff-2d4f-4b88-81b2-3926731753c0",
   "metadata": {},
   "outputs": [
    {
     "data": {
      "text/plain": [
       "0"
      ]
     },
     "execution_count": 9,
     "metadata": {},
     "output_type": "execute_result"
    }
   ],
   "source": [
    "10%5"
   ]
  },
  {
   "cell_type": "code",
   "execution_count": 10,
   "id": "31fbb4db-6b0f-43c0-9439-b7e43fcb5b86",
   "metadata": {},
   "outputs": [
    {
     "data": {
      "text/plain": [
       "20"
      ]
     },
     "execution_count": 10,
     "metadata": {},
     "output_type": "execute_result"
    }
   ],
   "source": [
    "10*2"
   ]
  },
  {
   "cell_type": "code",
   "execution_count": 11,
   "id": "eb3c5242-eb4b-4f93-82bb-02333583be56",
   "metadata": {},
   "outputs": [
    {
     "data": {
      "text/plain": [
       "100"
      ]
     },
     "execution_count": 11,
     "metadata": {},
     "output_type": "execute_result"
    }
   ],
   "source": [
    "10**2"
   ]
  },
  {
   "cell_type": "code",
   "execution_count": 12,
   "id": "7f4b6072-24ca-46ed-85d8-884a9c86f80a",
   "metadata": {},
   "outputs": [
    {
     "data": {
      "text/plain": [
       "40"
      ]
     },
     "execution_count": 12,
     "metadata": {},
     "output_type": "execute_result"
    }
   ],
   "source": [
    "10*2*2"
   ]
  },
  {
   "cell_type": "code",
   "execution_count": 13,
   "id": "2495bff5-e94b-48ce-b635-a41dfa1b9804",
   "metadata": {},
   "outputs": [],
   "source": [
    "a=10"
   ]
  },
  {
   "cell_type": "code",
   "execution_count": 14,
   "id": "15783953-f023-4f18-bfd2-ddac90d0bd8a",
   "metadata": {},
   "outputs": [],
   "source": [
    "b=20"
   ]
  },
  {
   "cell_type": "code",
   "execution_count": 15,
   "id": "ecb0cbc9-1d5d-4af8-a922-1ad0fdbf3b7f",
   "metadata": {},
   "outputs": [],
   "source": [
    "c=30"
   ]
  },
  {
   "cell_type": "code",
   "execution_count": 16,
   "id": "f1f4ca73-11e0-4bda-8f75-d97f56d6770f",
   "metadata": {},
   "outputs": [
    {
     "name": "stdout",
     "output_type": "stream",
     "text": [
      "10\n"
     ]
    }
   ],
   "source": [
    "print(10)"
   ]
  },
  {
   "cell_type": "code",
   "execution_count": 17,
   "id": "3b11f418-20ae-459b-a3c2-0faec68723d1",
   "metadata": {},
   "outputs": [
    {
     "name": "stdout",
     "output_type": "stream",
     "text": [
      "10\n"
     ]
    }
   ],
   "source": [
    "print(a)"
   ]
  },
  {
   "cell_type": "code",
   "execution_count": 18,
   "id": "b8c02a40-dfbc-4dd6-b932-5e337da0875a",
   "metadata": {},
   "outputs": [
    {
     "name": "stdout",
     "output_type": "stream",
     "text": [
      "10 20\n"
     ]
    }
   ],
   "source": [
    "print(a,b)"
   ]
  },
  {
   "cell_type": "code",
   "execution_count": 19,
   "id": "33dfc13f-06d6-47bc-b167-10414f7f9bc9",
   "metadata": {},
   "outputs": [
    {
     "name": "stdout",
     "output_type": "stream",
     "text": [
      "a,b\n"
     ]
    }
   ],
   "source": [
    "print('a,b')"
   ]
  },
  {
   "cell_type": "raw",
   "id": "a6bb2a9c-4c58-4cef-82aa-516539ccaaed",
   "metadata": {},
   "source": [
    "print('b,a')"
   ]
  },
  {
   "cell_type": "code",
   "execution_count": 20,
   "id": "0f223d07-3ce4-464e-86f2-422c4fd5a464",
   "metadata": {},
   "outputs": [
    {
     "name": "stdout",
     "output_type": "stream",
     "text": [
      "20 10\n"
     ]
    }
   ],
   "source": [
    "print(b,a)"
   ]
  },
  {
   "cell_type": "raw",
   "id": "e030645e-d748-4d9e-aba7-75a1d7105cf2",
   "metadata": {},
   "source": [
    "print(f'{a},{b}')"
   ]
  },
  {
   "cell_type": "code",
   "execution_count": 23,
   "id": "8f43163a-7167-49bb-a4b3-72c1010155b0",
   "metadata": {},
   "outputs": [
    {
     "name": "stdout",
     "output_type": "stream",
     "text": [
      "10,20\n"
     ]
    }
   ],
   "source": [
    "print(f'{a},{b}'\n",
    "    )"
   ]
  },
  {
   "cell_type": "code",
   "execution_count": 24,
   "id": "b25e1d73-0194-4a7a-974b-50b33490bde1",
   "metadata": {},
   "outputs": [
    {
     "data": {
      "text/plain": [
       "(3+0j)"
      ]
     },
     "execution_count": 24,
     "metadata": {},
     "output_type": "execute_result"
    }
   ],
   "source": [
    "complex(1+2)"
   ]
  },
  {
   "cell_type": "code",
   "execution_count": 25,
   "id": "4cd0e91d-8832-495e-8e58-3155c4e7239c",
   "metadata": {},
   "outputs": [],
   "source": [
    "age=23"
   ]
  },
  {
   "cell_type": "code",
   "execution_count": 28,
   "id": "6903a38c-b400-4049-9b70-e97eca85a7d2",
   "metadata": {},
   "outputs": [
    {
     "name": "stdout",
     "output_type": "stream",
     "text": [
      "you are 23 years old\n"
     ]
    }
   ],
   "source": [
    "print('you are',age,'years old')"
   ]
  },
  {
   "cell_type": "code",
   "execution_count": 29,
   "id": "b4c0cfd8-bc0d-45f2-9cf5-ffba0cd3205c",
   "metadata": {},
   "outputs": [
    {
     "name": "stdout",
     "output_type": "stream",
     "text": [
      "you are 23 years old\n"
     ]
    }
   ],
   "source": [
    "print(f'you are {age} years old')"
   ]
  },
  {
   "cell_type": "code",
   "execution_count": 31,
   "id": "1bd4b6d0-e461-4e2a-bb56-63b41c70a364",
   "metadata": {},
   "outputs": [
    {
     "data": {
      "text/plain": [
       "32.0001"
      ]
     },
     "execution_count": 31,
     "metadata": {},
     "output_type": "execute_result"
    }
   ],
   "source": [
    "float(32.0001)"
   ]
  },
  {
   "cell_type": "code",
   "execution_count": 32,
   "id": "e9fff90d-a4c6-4ece-9add-3d95b7ad5db1",
   "metadata": {},
   "outputs": [
    {
     "data": {
      "text/plain": [
       "32"
      ]
     },
     "execution_count": 32,
     "metadata": {},
     "output_type": "execute_result"
    }
   ],
   "source": [
    "int(32.1112)"
   ]
  },
  {
   "cell_type": "code",
   "execution_count": 33,
   "id": "00767311-0d76-416d-ae36-6168b047c7f6",
   "metadata": {},
   "outputs": [
    {
     "data": {
      "text/plain": [
       "'32.111'"
      ]
     },
     "execution_count": 33,
     "metadata": {},
     "output_type": "execute_result"
    }
   ],
   "source": [
    "str(32.111)"
   ]
  },
  {
   "cell_type": "code",
   "execution_count": 36,
   "id": "d9c44a7d-8d42-4ad9-818d-136aa93f06c3",
   "metadata": {},
   "outputs": [
    {
     "data": {
      "text/plain": [
       "32.111"
      ]
     },
     "execution_count": 36,
     "metadata": {},
     "output_type": "execute_result"
    }
   ],
   "source": [
    "float(\"32.111\")"
   ]
  },
  {
   "cell_type": "code",
   "execution_count": 37,
   "id": "f35e7349-db02-4fb5-8f28-4fdfd76c4d8f",
   "metadata": {},
   "outputs": [
    {
     "data": {
      "text/plain": [
       "6"
      ]
     },
     "execution_count": 37,
     "metadata": {},
     "output_type": "execute_result"
    }
   ],
   "source": [
    "int(6.78)"
   ]
  },
  {
   "cell_type": "code",
   "execution_count": 41,
   "id": "be18994f-0088-4c73-9eed-b50dc890d600",
   "metadata": {},
   "outputs": [],
   "source": [
    "z='mohammed saif younus'"
   ]
  },
  {
   "cell_type": "code",
   "execution_count": 42,
   "id": "d91d22d5-922b-4ee4-8ad0-f4c1e1014ef2",
   "metadata": {},
   "outputs": [
    {
     "data": {
      "text/plain": [
       "'m'"
      ]
     },
     "execution_count": 42,
     "metadata": {},
     "output_type": "execute_result"
    }
   ],
   "source": [
    "z[0]"
   ]
  },
  {
   "cell_type": "code",
   "execution_count": 43,
   "id": "64bf14cb-074a-48e8-8eca-0cc62cf989e7",
   "metadata": {},
   "outputs": [
    {
     "data": {
      "text/plain": [
       "'mohammed saif younus'"
      ]
     },
     "execution_count": 43,
     "metadata": {},
     "output_type": "execute_result"
    }
   ],
   "source": [
    "z[::1]"
   ]
  },
  {
   "cell_type": "code",
   "execution_count": 78,
   "id": "9defe962-ed6d-4feb-82d1-359b65fbf5ee",
   "metadata": {},
   "outputs": [
    {
     "ename": "TypeError",
     "evalue": "'builtin_function_or_method' object is not subscriptable",
     "output_type": "error",
     "traceback": [
      "\u001b[0;31m---------------------------------------------------------------------------\u001b[0m",
      "\u001b[0;31mTypeError\u001b[0m                                 Traceback (most recent call last)",
      "Cell \u001b[0;32mIn[78], line 1\u001b[0m\n\u001b[0;32m----> 1\u001b[0m \u001b[38;5;28;43mlen\u001b[39;49m\u001b[43m[\u001b[49m\u001b[43mz\u001b[49m\u001b[43m]\u001b[49m\n",
      "\u001b[0;31mTypeError\u001b[0m: 'builtin_function_or_method' object is not subscriptable"
     ]
    }
   ],
   "source": [
    "len[z]"
   ]
  },
  {
   "cell_type": "code",
   "execution_count": 45,
   "id": "dee2f247-bad4-43b2-8832-ac0e55b70e73",
   "metadata": {},
   "outputs": [
    {
     "data": {
      "text/plain": [
       "'mdy'"
      ]
     },
     "execution_count": 45,
     "metadata": {},
     "output_type": "execute_result"
    }
   ],
   "source": [
    "z[0::7]"
   ]
  },
  {
   "cell_type": "code",
   "execution_count": 46,
   "id": "bfa1fe2d-45ba-45cf-9f5a-7413abc7b727",
   "metadata": {},
   "outputs": [
    {
     "data": {
      "text/plain": [
       "'med '"
      ]
     },
     "execution_count": 46,
     "metadata": {},
     "output_type": "execute_result"
    }
   ],
   "source": [
    "z[5:9]"
   ]
  },
  {
   "cell_type": "code",
   "execution_count": 47,
   "id": "f64cace6-cb67-40d1-99de-9479b0537df7",
   "metadata": {},
   "outputs": [],
   "source": [
    "gpa=330"
   ]
  },
  {
   "cell_type": "code",
   "execution_count": 48,
   "id": "69752d4c-38a9-469b-a00e-b0c59a0d5ed9",
   "metadata": {},
   "outputs": [],
   "source": [
    "distance=350"
   ]
  },
  {
   "cell_type": "code",
   "execution_count": 49,
   "id": "4c2ca7b1-acd7-4d7b-ad07-8dd00414c703",
   "metadata": {},
   "outputs": [],
   "source": [
    "price=3500"
   ]
  },
  {
   "cell_type": "code",
   "execution_count": 54,
   "id": "d2a7d043-3549-4e96-bd4e-470377d02c6f",
   "metadata": {},
   "outputs": [
    {
     "name": "stdout",
     "output_type": "stream",
     "text": [
      "yours gpa is 330 \n"
     ]
    }
   ],
   "source": [
    "print(f'yours gpa is',gpa,'')"
   ]
  },
  {
   "cell_type": "code",
   "execution_count": 56,
   "id": "ad0f4169-1e36-4e93-be85-d9b6415dc72d",
   "metadata": {},
   "outputs": [
    {
     "name": "stdout",
     "output_type": "stream",
     "text": [
      "yours distance is 350 \n"
     ]
    }
   ],
   "source": [
    "print(f'yours distance is',distance,'')"
   ]
  },
  {
   "cell_type": "code",
   "execution_count": 58,
   "id": "fdfa9cce-062d-4e21-8a9c-4dfbec72329e",
   "metadata": {},
   "outputs": [
    {
     "name": "stdout",
     "output_type": "stream",
     "text": [
      "yours price is 3500 \n"
     ]
    }
   ],
   "source": [
    "print(f'yours price is',price,'')"
   ]
  },
  {
   "cell_type": "code",
   "execution_count": 68,
   "id": "342d1119-edbf-4af9-9b66-72785309f6d9",
   "metadata": {},
   "outputs": [],
   "source": [
    "name='saif'\n",
    "age='23'\n",
    "number='7090078994'\n",
    "email='saif123@gmail.com'"
   ]
  },
  {
   "cell_type": "code",
   "execution_count": 70,
   "id": "e5cad861-cf05-4ce9-be55-04090c1825aa",
   "metadata": {},
   "outputs": [
    {
     "name": "stdout",
     "output_type": "stream",
     "text": [
      "your name is saif\n",
      "your age is 23\n",
      "your number is 7090078994\n",
      "your email is saif123@gmail.com\n"
     ]
    }
   ],
   "source": [
    "print(f'your name is {name}')\n",
    "print(f'your age is {age}')\n",
    "print(f'your number is {number}')\n",
    "print(f'your email is {email}')"
   ]
  },
  {
   "cell_type": "code",
   "execution_count": 72,
   "id": "3addc694-b8a9-4f54-bfa7-75eecd24675c",
   "metadata": {},
   "outputs": [],
   "source": [
    "online=True\n",
    "for_sale=False\n",
    "running=True"
   ]
  },
  {
   "cell_type": "code",
   "execution_count": 75,
   "id": "d62bf498-0c08-4a82-a381-01d64101602d",
   "metadata": {},
   "outputs": [
    {
     "name": "stdout",
     "output_type": "stream",
     "text": [
      "you are online?: True\n",
      "item is for sale?:False\n",
      "game is running?:True\n"
     ]
    }
   ],
   "source": [
    "print(f'you are online?: {online}')\n",
    "print(f'item is for sale?:{for_sale}')\n",
    "print(f'game is running?:{running}')"
   ]
  },
  {
   "cell_type": "code",
   "execution_count": 77,
   "id": "f043ac6a-d712-45fa-b942-d4fb74bf58d9",
   "metadata": {},
   "outputs": [],
   "source": [
    "age=23"
   ]
  },
  {
   "cell_type": "code",
   "execution_count": 81,
   "id": "d63499d7-f929-40da-b792-1c7cacbd97d5",
   "metadata": {},
   "outputs": [],
   "source": [
    "f=(1,2,3,4,5,6,7,8,9,0)"
   ]
  },
  {
   "cell_type": "code",
   "execution_count": 82,
   "id": "a6cf1996-2434-4533-ab16-03e39809f75a",
   "metadata": {},
   "outputs": [
    {
     "data": {
      "text/plain": [
       "1"
      ]
     },
     "execution_count": 82,
     "metadata": {},
     "output_type": "execute_result"
    }
   ],
   "source": [
    "f[0]"
   ]
  },
  {
   "cell_type": "code",
   "execution_count": 83,
   "id": "64032f75-90f3-4164-b08b-45c9fb5c1f25",
   "metadata": {},
   "outputs": [
    {
     "data": {
      "text/plain": [
       "(0, 9, 8, 7, 6, 5, 4, 3, 2, 1)"
      ]
     },
     "execution_count": 83,
     "metadata": {},
     "output_type": "execute_result"
    }
   ],
   "source": [
    "f[::-1]"
   ]
  },
  {
   "cell_type": "code",
   "execution_count": 85,
   "id": "b6908d48-b944-4952-849b-220fcace9148",
   "metadata": {},
   "outputs": [
    {
     "data": {
      "text/plain": [
       "[0, 1, 2, 3, 4]"
      ]
     },
     "execution_count": 85,
     "metadata": {},
     "output_type": "execute_result"
    }
   ],
   "source": [
    "list(range(5))"
   ]
  },
  {
   "cell_type": "code",
   "execution_count": 87,
   "id": "76c54e61-4740-4c4c-b864-37f65f4aee6d",
   "metadata": {},
   "outputs": [
    {
     "data": {
      "text/plain": [
       "[1, 2, 3, 4]"
      ]
     },
     "execution_count": 87,
     "metadata": {},
     "output_type": "execute_result"
    }
   ],
   "source": [
    "list(range(1,5))"
   ]
  },
  {
   "cell_type": "code",
   "execution_count": 88,
   "id": "2d270af3-4fea-48ac-9977-93ef6961fddd",
   "metadata": {},
   "outputs": [
    {
     "data": {
      "text/plain": [
       "[1, 2, 3, 4, 5, 6, 7, 8]"
      ]
     },
     "execution_count": 88,
     "metadata": {},
     "output_type": "execute_result"
    }
   ],
   "source": [
    "list(range(1,9))"
   ]
  },
  {
   "cell_type": "code",
   "execution_count": 90,
   "id": "a7901c04-d62d-480d-8378-ed8b54cba6fd",
   "metadata": {},
   "outputs": [
    {
     "data": {
      "text/plain": [
       "[-1, -2, -3, -4]"
      ]
     },
     "execution_count": 90,
     "metadata": {},
     "output_type": "execute_result"
    }
   ],
   "source": [
    "list(range(-1,-5,-1))"
   ]
  },
  {
   "cell_type": "code",
   "execution_count": 93,
   "id": "d6fbe1ec-e80e-43a5-be2f-d27ab5494d6b",
   "metadata": {},
   "outputs": [],
   "source": [
    "d={'a':10,'b':100}"
   ]
  },
  {
   "cell_type": "code",
   "execution_count": 95,
   "id": "afbdd722-afd5-447b-9fe1-3cb7078bb2f8",
   "metadata": {},
   "outputs": [
    {
     "data": {
      "text/plain": [
       "10"
      ]
     },
     "execution_count": 95,
     "metadata": {},
     "output_type": "execute_result"
    }
   ],
   "source": [
    "d['a']"
   ]
  },
  {
   "cell_type": "code",
   "execution_count": 96,
   "id": "79182c88-4fce-4be4-9aa3-0036e81e824d",
   "metadata": {},
   "outputs": [
    {
     "data": {
      "text/plain": [
       "100"
      ]
     },
     "execution_count": 96,
     "metadata": {},
     "output_type": "execute_result"
    }
   ],
   "source": [
    "d['b']"
   ]
  },
  {
   "cell_type": "code",
   "execution_count": 15,
   "id": "fd321b97-bfb2-42c3-98cf-ff9406c95540",
   "metadata": {},
   "outputs": [
    {
     "name": "stdin",
     "output_type": "stream",
     "text": [
      "Enter your name: saif\n",
      "Enter your age: 23\n"
     ]
    }
   ],
   "source": [
    "name=input(\"Enter your name:\")\n",
    "age=int(input(\"Enter your age:\"))\n",
    "age=1+age"
   ]
  },
  {
   "cell_type": "code",
   "execution_count": 16,
   "id": "f44d188d-e521-4906-a376-dce89a92784e",
   "metadata": {},
   "outputs": [
    {
     "name": "stdout",
     "output_type": "stream",
     "text": [
      "hello saif\n",
      "your age is 24\n"
     ]
    }
   ],
   "source": [
    "print(f\"hello {name}\")\n",
    "print(f\"your age is {age}\")"
   ]
  },
  {
   "cell_type": "code",
   "execution_count": 17,
   "id": "136f46f6-7e60-4e04-aca2-81a6ccfc5bbf",
   "metadata": {},
   "outputs": [
    {
     "name": "stdin",
     "output_type": "stream",
     "text": [
      "enter a name kusar\n",
      "enter a noun  boy\n"
     ]
    }
   ],
   "source": [
    "name=input(\"enter a name\")\n",
    "noun=input(\"enter a noun \")"
   ]
  },
  {
   "cell_type": "code",
   "execution_count": 19,
   "id": "e736a09a-9fdd-40ac-b127-7135953daf57",
   "metadata": {},
   "outputs": [
    {
     "name": "stdout",
     "output_type": "stream",
     "text": [
      "yestaday i went to kusar mosque\n",
      "in an mosque I saw a boy\n",
      "boy was reciting quran\n",
      "i was amazed\n"
     ]
    }
   ],
   "source": [
    "print(f\"yestaday i went to {name} mosque\")\n",
    "print(f\"in an mosque I saw a {noun}\")\n",
    "print(f\"{noun} was reciting quran\")\n",
    "print(f\"i was amazed\")"
   ]
  },
  {
   "cell_type": "code",
   "execution_count": 27,
   "id": "2ae225a6-a257-45db-85d6-f0b085ba4ac7",
   "metadata": {},
   "outputs": [
    {
     "name": "stdin",
     "output_type": "stream",
     "text": [
      "enter the length of the rectangle: 2\n",
      "enter the width of the rectangle: 3\n",
      "enter the hight of the rectangle: 4\n"
     ]
    }
   ],
   "source": [
    "length=float(input(\"enter the length of the rectangle:\"))\n",
    "width=float(input(\"enter the width of the rectangle:\"))\n",
    "hight=float(input(\"enter the hight of the rectangle:\"))\n",
    "area=length * width \n",
    "volume=length * width * hight "
   ]
  },
  {
   "cell_type": "code",
   "execution_count": 28,
   "id": "8f2d02a6-b5a9-4c6e-8e53-6298a42821bc",
   "metadata": {},
   "outputs": [
    {
     "name": "stdout",
     "output_type": "stream",
     "text": [
      "the area is6.0cm^2\n",
      "the volume is 24.0cm^3\n"
     ]
    }
   ],
   "source": [
    "print(f\"the area is{area}cm^2\")\n",
    "print(f\"the volume is {volume}cm^3\")"
   ]
  },
  {
   "cell_type": "code",
   "execution_count": 34,
   "id": "c8d00f1c-9a26-41eb-b194-4533cd95641e",
   "metadata": {},
   "outputs": [
    {
     "name": "stdin",
     "output_type": "stream",
     "text": [
      "Enter the item: Biryani \n",
      "Enter the quantity: 7\n",
      "Total price is:Rs 99.99\n"
     ]
    },
    {
     "name": "stdout",
     "output_type": "stream",
     "text": [
      "your item is : Biryani  *7.0\n",
      "your total is :Rs699.93\n"
     ]
    }
   ],
   "source": [
    "item=input(\"Enter the item:\")\n",
    "quantity=float(input(\"Enter the quantity:\"))\n",
    "price=float(input(\"Total price is:Rs\"))\n",
    "total=quantity*price\n",
    "print(f\"your item is : {item} *{quantity}\")\n",
    "print(f\"your total is :Rs{total}\")"
   ]
  },
  {
   "cell_type": "code",
   "execution_count": 83,
   "id": "4a74cd6f-70cb-45e7-9372-0f4dacdb9e1f",
   "metadata": {},
   "outputs": [],
   "source": [
    "friends=10"
   ]
  },
  {
   "cell_type": "code",
   "execution_count": 84,
   "id": "b0de342d-0d29-4e34-b939-ef2746918f8c",
   "metadata": {},
   "outputs": [],
   "source": [
    "#friends+=1"
   ]
  },
  {
   "cell_type": "code",
   "execution_count": 85,
   "id": "9b32262d-cca1-4d0d-b9c2-3487e9cb6414",
   "metadata": {},
   "outputs": [],
   "source": [
    "#print(friends)"
   ]
  },
  {
   "cell_type": "code",
   "execution_count": 87,
   "id": "bfb898b1-d08a-4ca5-b070-1cc9d214c619",
   "metadata": {},
   "outputs": [],
   "source": [
    "reminder=friends/2"
   ]
  },
  {
   "cell_type": "code",
   "execution_count": 89,
   "id": "878cce0c-b2e1-428f-ab3c-e8b27f02389f",
   "metadata": {},
   "outputs": [
    {
     "name": "stdout",
     "output_type": "stream",
     "text": [
      "5.0\n"
     ]
    }
   ],
   "source": [
    "print(reminder)"
   ]
  },
  {
   "cell_type": "code",
   "execution_count": 88,
   "id": "7390a7e4-25db-46b8-bc37-f8e7042a981d",
   "metadata": {},
   "outputs": [],
   "source": [
    "reminder = friends/2"
   ]
  },
  {
   "cell_type": "raw",
   "id": "a1f4e1c8-7ba6-4cb2-b004-18488b3cfd7c",
   "metadata": {},
   "source": [
    "print(reminder)"
   ]
  },
  {
   "cell_type": "code",
   "execution_count": 97,
   "id": "23ba534f-8218-4dc3-81c3-330f0671ee40",
   "metadata": {},
   "outputs": [],
   "source": [
    "x=3.12\n",
    "y=4\n",
    "z=7"
   ]
  },
  {
   "cell_type": "code",
   "execution_count": 156,
   "id": "674b1d8d-e9fb-458d-9a5d-b23127243ba5",
   "metadata": {},
   "outputs": [],
   "source": [
    "#result=round(x)\n",
    "result=abs(y)\n",
    "#result=pow(x,z)\n",
    "#result=max(x,y,z)\n",
    "#result=min(x,y,z)"
   ]
  },
  {
   "cell_type": "code",
   "execution_count": 157,
   "id": "6eae817c-f9c5-46f2-af48-9ae4f8bc4e98",
   "metadata": {},
   "outputs": [
    {
     "name": "stdout",
     "output_type": "stream",
     "text": [
      "4\n"
     ]
    }
   ],
   "source": [
    "print(result)"
   ]
  },
  {
   "cell_type": "code",
   "execution_count": null,
   "id": "176a502b-98ed-4c64-8df9-9942defb37d9",
   "metadata": {},
   "outputs": [],
   "source": []
  },
  {
   "cell_type": "code",
   "execution_count": 125,
   "id": "bfb3d381-9a84-442b-ae8a-4955663e214d",
   "metadata": {},
   "outputs": [],
   "source": [
    "import math"
   ]
  },
  {
   "cell_type": "code",
   "execution_count": 126,
   "id": "3cd4007a-7197-4a4b-bb5a-127b303bb87d",
   "metadata": {},
   "outputs": [
    {
     "data": {
      "text/plain": [
       "3.141592653589793"
      ]
     },
     "execution_count": 126,
     "metadata": {},
     "output_type": "execute_result"
    }
   ],
   "source": [
    "math.pi"
   ]
  },
  {
   "cell_type": "code",
   "execution_count": 129,
   "id": "acd25b7a-7d30-4e09-8bb9-ae5d5b0ea215",
   "metadata": {},
   "outputs": [],
   "source": [
    "import sys"
   ]
  },
  {
   "cell_type": "code",
   "execution_count": 130,
   "id": "60e5e614-ae24-46ba-8cbd-742d234c1218",
   "metadata": {},
   "outputs": [],
   "source": [
    "import os"
   ]
  },
  {
   "cell_type": "code",
   "execution_count": 131,
   "id": "fd05b9a9-4c76-4d60-81a8-4721317ee19d",
   "metadata": {},
   "outputs": [
    {
     "data": {
      "text/plain": [
       "['CLD_CONTINUED',\n",
       " 'CLD_DUMPED',\n",
       " 'CLD_EXITED',\n",
       " 'CLD_KILLED',\n",
       " 'CLD_STOPPED',\n",
       " 'CLD_TRAPPED',\n",
       " 'DirEntry',\n",
       " 'EFD_CLOEXEC',\n",
       " 'EFD_NONBLOCK',\n",
       " 'EFD_SEMAPHORE',\n",
       " 'EX_CANTCREAT',\n",
       " 'EX_CONFIG',\n",
       " 'EX_DATAERR',\n",
       " 'EX_IOERR',\n",
       " 'EX_NOHOST',\n",
       " 'EX_NOINPUT',\n",
       " 'EX_NOPERM',\n",
       " 'EX_NOUSER',\n",
       " 'EX_OK',\n",
       " 'EX_OSERR',\n",
       " 'EX_OSFILE',\n",
       " 'EX_PROTOCOL',\n",
       " 'EX_SOFTWARE',\n",
       " 'EX_TEMPFAIL',\n",
       " 'EX_UNAVAILABLE',\n",
       " 'EX_USAGE',\n",
       " 'F_LOCK',\n",
       " 'F_OK',\n",
       " 'F_TEST',\n",
       " 'F_TLOCK',\n",
       " 'F_ULOCK',\n",
       " 'GRND_NONBLOCK',\n",
       " 'GRND_RANDOM',\n",
       " 'GenericAlias',\n",
       " 'MFD_ALLOW_SEALING',\n",
       " 'MFD_CLOEXEC',\n",
       " 'MFD_HUGETLB',\n",
       " 'MFD_HUGE_16GB',\n",
       " 'MFD_HUGE_16MB',\n",
       " 'MFD_HUGE_1GB',\n",
       " 'MFD_HUGE_1MB',\n",
       " 'MFD_HUGE_256MB',\n",
       " 'MFD_HUGE_2GB',\n",
       " 'MFD_HUGE_2MB',\n",
       " 'MFD_HUGE_32MB',\n",
       " 'MFD_HUGE_512KB',\n",
       " 'MFD_HUGE_512MB',\n",
       " 'MFD_HUGE_64KB',\n",
       " 'MFD_HUGE_8MB',\n",
       " 'MFD_HUGE_MASK',\n",
       " 'MFD_HUGE_SHIFT',\n",
       " 'Mapping',\n",
       " 'MutableMapping',\n",
       " 'NGROUPS_MAX',\n",
       " 'O_ACCMODE',\n",
       " 'O_APPEND',\n",
       " 'O_ASYNC',\n",
       " 'O_CLOEXEC',\n",
       " 'O_CREAT',\n",
       " 'O_DIRECT',\n",
       " 'O_DIRECTORY',\n",
       " 'O_DSYNC',\n",
       " 'O_EXCL',\n",
       " 'O_FSYNC',\n",
       " 'O_LARGEFILE',\n",
       " 'O_NDELAY',\n",
       " 'O_NOATIME',\n",
       " 'O_NOCTTY',\n",
       " 'O_NOFOLLOW',\n",
       " 'O_NONBLOCK',\n",
       " 'O_PATH',\n",
       " 'O_RDONLY',\n",
       " 'O_RDWR',\n",
       " 'O_RSYNC',\n",
       " 'O_SYNC',\n",
       " 'O_TMPFILE',\n",
       " 'O_TRUNC',\n",
       " 'O_WRONLY',\n",
       " 'POSIX_FADV_DONTNEED',\n",
       " 'POSIX_FADV_NOREUSE',\n",
       " 'POSIX_FADV_NORMAL',\n",
       " 'POSIX_FADV_RANDOM',\n",
       " 'POSIX_FADV_SEQUENTIAL',\n",
       " 'POSIX_FADV_WILLNEED',\n",
       " 'POSIX_SPAWN_CLOSE',\n",
       " 'POSIX_SPAWN_DUP2',\n",
       " 'POSIX_SPAWN_OPEN',\n",
       " 'PRIO_PGRP',\n",
       " 'PRIO_PROCESS',\n",
       " 'PRIO_USER',\n",
       " 'P_ALL',\n",
       " 'P_NOWAIT',\n",
       " 'P_NOWAITO',\n",
       " 'P_PGID',\n",
       " 'P_PID',\n",
       " 'P_PIDFD',\n",
       " 'P_WAIT',\n",
       " 'PathLike',\n",
       " 'RTLD_DEEPBIND',\n",
       " 'RTLD_GLOBAL',\n",
       " 'RTLD_LAZY',\n",
       " 'RTLD_LOCAL',\n",
       " 'RTLD_NODELETE',\n",
       " 'RTLD_NOLOAD',\n",
       " 'RTLD_NOW',\n",
       " 'RWF_APPEND',\n",
       " 'RWF_DSYNC',\n",
       " 'RWF_HIPRI',\n",
       " 'RWF_NOWAIT',\n",
       " 'RWF_SYNC',\n",
       " 'R_OK',\n",
       " 'SCHED_BATCH',\n",
       " 'SCHED_FIFO',\n",
       " 'SCHED_IDLE',\n",
       " 'SCHED_OTHER',\n",
       " 'SCHED_RESET_ON_FORK',\n",
       " 'SCHED_RR',\n",
       " 'SEEK_CUR',\n",
       " 'SEEK_DATA',\n",
       " 'SEEK_END',\n",
       " 'SEEK_HOLE',\n",
       " 'SEEK_SET',\n",
       " 'SPLICE_F_MORE',\n",
       " 'SPLICE_F_MOVE',\n",
       " 'SPLICE_F_NONBLOCK',\n",
       " 'ST_APPEND',\n",
       " 'ST_MANDLOCK',\n",
       " 'ST_NOATIME',\n",
       " 'ST_NODEV',\n",
       " 'ST_NODIRATIME',\n",
       " 'ST_NOEXEC',\n",
       " 'ST_NOSUID',\n",
       " 'ST_RDONLY',\n",
       " 'ST_RELATIME',\n",
       " 'ST_SYNCHRONOUS',\n",
       " 'ST_WRITE',\n",
       " 'TMP_MAX',\n",
       " 'WCONTINUED',\n",
       " 'WCOREDUMP',\n",
       " 'WEXITED',\n",
       " 'WEXITSTATUS',\n",
       " 'WIFCONTINUED',\n",
       " 'WIFEXITED',\n",
       " 'WIFSIGNALED',\n",
       " 'WIFSTOPPED',\n",
       " 'WNOHANG',\n",
       " 'WNOWAIT',\n",
       " 'WSTOPPED',\n",
       " 'WSTOPSIG',\n",
       " 'WTERMSIG',\n",
       " 'WUNTRACED',\n",
       " 'W_OK',\n",
       " 'XATTR_CREATE',\n",
       " 'XATTR_REPLACE',\n",
       " 'XATTR_SIZE_MAX',\n",
       " 'X_OK',\n",
       " '_Environ',\n",
       " '__all__',\n",
       " '__builtins__',\n",
       " '__doc__',\n",
       " '__file__',\n",
       " '__loader__',\n",
       " '__name__',\n",
       " '__package__',\n",
       " '__spec__',\n",
       " '_check_methods',\n",
       " '_execvpe',\n",
       " '_exists',\n",
       " '_exit',\n",
       " '_fspath',\n",
       " '_fwalk',\n",
       " '_get_exports_list',\n",
       " '_spawnvef',\n",
       " '_walk',\n",
       " '_wrap_close',\n",
       " 'abc',\n",
       " 'abort',\n",
       " 'access',\n",
       " 'altsep',\n",
       " 'chdir',\n",
       " 'chmod',\n",
       " 'chown',\n",
       " 'chroot',\n",
       " 'close',\n",
       " 'closerange',\n",
       " 'confstr',\n",
       " 'confstr_names',\n",
       " 'copy_file_range',\n",
       " 'cpu_count',\n",
       " 'ctermid',\n",
       " 'curdir',\n",
       " 'defpath',\n",
       " 'device_encoding',\n",
       " 'devnull',\n",
       " 'dup',\n",
       " 'dup2',\n",
       " 'environ',\n",
       " 'environb',\n",
       " 'error',\n",
       " 'eventfd',\n",
       " 'eventfd_read',\n",
       " 'eventfd_write',\n",
       " 'execl',\n",
       " 'execle',\n",
       " 'execlp',\n",
       " 'execlpe',\n",
       " 'execv',\n",
       " 'execve',\n",
       " 'execvp',\n",
       " 'execvpe',\n",
       " 'extsep',\n",
       " 'fchdir',\n",
       " 'fchmod',\n",
       " 'fchown',\n",
       " 'fdatasync',\n",
       " 'fdopen',\n",
       " 'fork',\n",
       " 'forkpty',\n",
       " 'fpathconf',\n",
       " 'fsdecode',\n",
       " 'fsencode',\n",
       " 'fspath',\n",
       " 'fstat',\n",
       " 'fstatvfs',\n",
       " 'fsync',\n",
       " 'ftruncate',\n",
       " 'fwalk',\n",
       " 'get_blocking',\n",
       " 'get_exec_path',\n",
       " 'get_inheritable',\n",
       " 'get_terminal_size',\n",
       " 'getcwd',\n",
       " 'getcwdb',\n",
       " 'getegid',\n",
       " 'getenv',\n",
       " 'getenvb',\n",
       " 'geteuid',\n",
       " 'getgid',\n",
       " 'getgrouplist',\n",
       " 'getgroups',\n",
       " 'getloadavg',\n",
       " 'getlogin',\n",
       " 'getpgid',\n",
       " 'getpgrp',\n",
       " 'getpid',\n",
       " 'getppid',\n",
       " 'getpriority',\n",
       " 'getrandom',\n",
       " 'getresgid',\n",
       " 'getresuid',\n",
       " 'getsid',\n",
       " 'getuid',\n",
       " 'getxattr',\n",
       " 'initgroups',\n",
       " 'isatty',\n",
       " 'kill',\n",
       " 'killpg',\n",
       " 'lchown',\n",
       " 'linesep',\n",
       " 'link',\n",
       " 'listdir',\n",
       " 'listxattr',\n",
       " 'lockf',\n",
       " 'login_tty',\n",
       " 'lseek',\n",
       " 'lstat',\n",
       " 'major',\n",
       " 'makedev',\n",
       " 'makedirs',\n",
       " 'memfd_create',\n",
       " 'minor',\n",
       " 'mkdir',\n",
       " 'mkfifo',\n",
       " 'mknod',\n",
       " 'name',\n",
       " 'nice',\n",
       " 'open',\n",
       " 'openpty',\n",
       " 'pardir',\n",
       " 'path',\n",
       " 'pathconf',\n",
       " 'pathconf_names',\n",
       " 'pathsep',\n",
       " 'pidfd_open',\n",
       " 'pipe',\n",
       " 'pipe2',\n",
       " 'popen',\n",
       " 'posix_fadvise',\n",
       " 'posix_fallocate',\n",
       " 'posix_spawn',\n",
       " 'posix_spawnp',\n",
       " 'pread',\n",
       " 'preadv',\n",
       " 'putenv',\n",
       " 'pwrite',\n",
       " 'pwritev',\n",
       " 'read',\n",
       " 'readlink',\n",
       " 'readv',\n",
       " 'register_at_fork',\n",
       " 'remove',\n",
       " 'removedirs',\n",
       " 'removexattr',\n",
       " 'rename',\n",
       " 'renames',\n",
       " 'replace',\n",
       " 'rmdir',\n",
       " 'scandir',\n",
       " 'sched_get_priority_max',\n",
       " 'sched_get_priority_min',\n",
       " 'sched_getaffinity',\n",
       " 'sched_getparam',\n",
       " 'sched_getscheduler',\n",
       " 'sched_param',\n",
       " 'sched_rr_get_interval',\n",
       " 'sched_setaffinity',\n",
       " 'sched_setparam',\n",
       " 'sched_setscheduler',\n",
       " 'sched_yield',\n",
       " 'sendfile',\n",
       " 'sep',\n",
       " 'set_blocking',\n",
       " 'set_inheritable',\n",
       " 'setegid',\n",
       " 'seteuid',\n",
       " 'setgid',\n",
       " 'setgroups',\n",
       " 'setpgid',\n",
       " 'setpgrp',\n",
       " 'setpriority',\n",
       " 'setregid',\n",
       " 'setresgid',\n",
       " 'setresuid',\n",
       " 'setreuid',\n",
       " 'setsid',\n",
       " 'setuid',\n",
       " 'setxattr',\n",
       " 'spawnl',\n",
       " 'spawnle',\n",
       " 'spawnlp',\n",
       " 'spawnlpe',\n",
       " 'spawnv',\n",
       " 'spawnve',\n",
       " 'spawnvp',\n",
       " 'spawnvpe',\n",
       " 'splice',\n",
       " 'st',\n",
       " 'stat',\n",
       " 'stat_result',\n",
       " 'statvfs',\n",
       " 'statvfs_result',\n",
       " 'strerror',\n",
       " 'supports_bytes_environ',\n",
       " 'supports_dir_fd',\n",
       " 'supports_effective_ids',\n",
       " 'supports_fd',\n",
       " 'supports_follow_symlinks',\n",
       " 'symlink',\n",
       " 'sync',\n",
       " 'sys',\n",
       " 'sysconf',\n",
       " 'sysconf_names',\n",
       " 'system',\n",
       " 'tcgetpgrp',\n",
       " 'tcsetpgrp',\n",
       " 'terminal_size',\n",
       " 'times',\n",
       " 'times_result',\n",
       " 'truncate',\n",
       " 'ttyname',\n",
       " 'umask',\n",
       " 'uname',\n",
       " 'uname_result',\n",
       " 'unlink',\n",
       " 'unsetenv',\n",
       " 'urandom',\n",
       " 'utime',\n",
       " 'wait',\n",
       " 'wait3',\n",
       " 'wait4',\n",
       " 'waitid',\n",
       " 'waitid_result',\n",
       " 'waitpid',\n",
       " 'waitstatus_to_exitcode',\n",
       " 'walk',\n",
       " 'write',\n",
       " 'writev']"
      ]
     },
     "execution_count": 131,
     "metadata": {},
     "output_type": "execute_result"
    }
   ],
   "source": [
    "dir(os)"
   ]
  },
  {
   "cell_type": "code",
   "execution_count": 132,
   "id": "f544c3e3-6d02-4fe1-b581-3f2b61c16d7a",
   "metadata": {},
   "outputs": [],
   "source": [
    "from os import listdir"
   ]
  },
  {
   "cell_type": "code",
   "execution_count": 133,
   "id": "5394e6f4-6687-4183-9f4e-697b1f27b72c",
   "metadata": {},
   "outputs": [
    {
     "data": {
      "text/plain": [
       "['saif', 'pylearnq.ipynb', '.ipynb_checkpoints', 'Python']"
      ]
     },
     "execution_count": 133,
     "metadata": {},
     "output_type": "execute_result"
    }
   ],
   "source": [
    "listdir()"
   ]
  },
  {
   "cell_type": "code",
   "execution_count": 134,
   "id": "ab153d2d-9d3a-4560-81ac-e9d178076d36",
   "metadata": {},
   "outputs": [],
   "source": [
    "from math import pi"
   ]
  },
  {
   "cell_type": "code",
   "execution_count": 135,
   "id": "20b6223c-d97d-4610-bfc5-2dcc147ccb34",
   "metadata": {},
   "outputs": [
    {
     "ename": "ModuleNotFoundError",
     "evalue": "No module named 'math.pi'; 'math' is not a package",
     "output_type": "error",
     "traceback": [
      "\u001b[0;31m---------------------------------------------------------------------------\u001b[0m",
      "\u001b[0;31mModuleNotFoundError\u001b[0m                       Traceback (most recent call last)",
      "Cell \u001b[0;32mIn[135], line 1\u001b[0m\n\u001b[0;32m----> 1\u001b[0m \u001b[38;5;28;01mimport\u001b[39;00m \u001b[38;5;21;01mmath\u001b[39;00m\u001b[38;5;21;01m.\u001b[39;00m\u001b[38;5;21;01mpi\u001b[39;00m\n",
      "\u001b[0;31mModuleNotFoundError\u001b[0m: No module named 'math.pi'; 'math' is not a package"
     ]
    }
   ],
   "source": [
    "import math.pi"
   ]
  },
  {
   "cell_type": "code",
   "execution_count": 139,
   "id": "f6497c62-a1aa-4ef3-a733-49a590bc4185",
   "metadata": {},
   "outputs": [],
   "source": [
    "from Python.main.test.ali import fun"
   ]
  },
  {
   "cell_type": "code",
   "execution_count": 140,
   "id": "04381988-e731-4445-a50a-080defd84682",
   "metadata": {},
   "outputs": [
    {
     "name": "stdout",
     "output_type": "stream",
     "text": [
      "hello\n"
     ]
    },
    {
     "data": {
      "text/plain": [
       "'tested'"
      ]
     },
     "execution_count": 140,
     "metadata": {},
     "output_type": "execute_result"
    }
   ],
   "source": [
    "fun()"
   ]
  },
  {
   "cell_type": "code",
   "execution_count": 146,
   "id": "d66f1107-a76c-4d28-b8d7-290493762e76",
   "metadata": {},
   "outputs": [
    {
     "name": "stdout",
     "output_type": "stream",
     "text": [
      "3\n"
     ]
    }
   ],
   "source": [
    "print(round(math.e))"
   ]
  },
  {
   "cell_type": "code",
   "execution_count": 163,
   "id": "4a3b0ee0-f0ea-418d-8824-e22f8626a6e2",
   "metadata": {},
   "outputs": [],
   "source": [
    "x=9"
   ]
  },
  {
   "cell_type": "code",
   "execution_count": 164,
   "id": "30c17593-bf86-4613-8757-29fdf0983d15",
   "metadata": {},
   "outputs": [],
   "source": [
    "result=math.sqrt(x)"
   ]
  },
  {
   "cell_type": "code",
   "execution_count": 165,
   "id": "5b7392d7-a4ab-4b08-a769-1323f78bbfd3",
   "metadata": {},
   "outputs": [
    {
     "name": "stdout",
     "output_type": "stream",
     "text": [
      "3.0\n"
     ]
    }
   ],
   "source": [
    "print(result)"
   ]
  },
  {
   "cell_type": "code",
   "execution_count": 168,
   "id": "fd8ae856-d494-45d0-86fe-e8b2d621c5df",
   "metadata": {},
   "outputs": [
    {
     "name": "stdin",
     "output_type": "stream",
     "text": [
      "cicumference of circle: 10.7\n"
     ]
    }
   ],
   "source": [
    "radius=float(input(\"cicumference of circle:\"))\n",
    "circumference=2*math.pi*radius"
   ]
  },
  {
   "cell_type": "code",
   "execution_count": 174,
   "id": "30736bbc-48f4-4d64-a026-c1f3eb06bc43",
   "metadata": {},
   "outputs": [
    {
     "name": "stdout",
     "output_type": "stream",
     "text": [
      "circumference of circle is:67.23\n"
     ]
    }
   ],
   "source": [
    "print(f\"circumference of circle is:{round(circumference,2)}\")"
   ]
  },
  {
   "cell_type": "code",
   "execution_count": 175,
   "id": "fe44d496-1e5a-4d92-beab-47377da15d3a",
   "metadata": {},
   "outputs": [],
   "source": [
    "from Python.main.test.ali import fun"
   ]
  },
  {
   "cell_type": "code",
   "execution_count": 36,
   "id": "d0b00d6f-ba17-43c5-8faa-2da34e1d1792",
   "metadata": {},
   "outputs": [
    {
     "ename": "SyntaxError",
     "evalue": "invalid syntax (1181388225.py, line 1)",
     "output_type": "error",
     "traceback": [
      "\u001b[0;36m  Cell \u001b[0;32mIn[36], line 1\u001b[0;36m\u001b[0m\n\u001b[0;31m    ::2\u001b[0m\n\u001b[0m    ^\u001b[0m\n\u001b[0;31mSyntaxError\u001b[0m\u001b[0;31m:\u001b[0m invalid syntax\n"
     ]
    }
   ],
   "source": [
    "::2"
   ]
  },
  {
   "cell_type": "code",
   "execution_count": 14,
   "id": "ba57b97b-2718-4039-a2d5-424e01ef461a",
   "metadata": {},
   "outputs": [
    {
     "name": "stdin",
     "output_type": "stream",
     "text": [
      "Enter your age: -1\n"
     ]
    }
   ],
   "source": [
    "age=int(input(\"Enter your age:\"))"
   ]
  },
  {
   "cell_type": "code",
   "execution_count": 15,
   "id": "6fb9a2a5-3af3-4d82-9c89-423e1c700f7a",
   "metadata": {},
   "outputs": [
    {
     "name": "stdout",
     "output_type": "stream",
     "text": [
      "you are not even born yet\n"
     ]
    }
   ],
   "source": [
    "if age >= 70:\n",
    "    print(\"you are to old to singed up!\")\n",
    "elif age >= 18:\n",
    "    print(\"you are singed in\")\n",
    "elif age<=0:\n",
    "    print(\"you are not even born yet\")\n",
    "else:\n",
    "    print(\"you must be 18+ to singed up\")"
   ]
  },
  {
   "cell_type": "code",
   "execution_count": 18,
   "id": "54a9ad54-82d9-41ef-b62b-9780453b577f",
   "metadata": {},
   "outputs": [],
   "source": [
    "for_sale=False"
   ]
  },
  {
   "cell_type": "code",
   "execution_count": 19,
   "id": "0d84e4de-f1e0-4c52-9161-56ea8e10b38e",
   "metadata": {},
   "outputs": [
    {
     "name": "stdout",
     "output_type": "stream",
     "text": [
      "item is not avalible\n"
     ]
    }
   ],
   "source": [
    "if for_sale:\n",
    "    print(\"the item is valible\")\n",
    "else:\n",
    "    print(\"item is not avalible\")"
   ]
  },
  {
   "cell_type": "code",
   "execution_count": 46,
   "id": "10bc8521-3e0c-46d6-9c52-45485371003d",
   "metadata": {},
   "outputs": [
    {
     "name": "stdin",
     "output_type": "stream",
     "text": [
      "enter an operator(+ ,-, *, /): +\n",
      "enter the 1st num: 2\n",
      "enter the 2nd num: 4\n",
      "enter the 3rd num: 6\n"
     ]
    }
   ],
   "source": [
    "operator=input(\"enter an operator(+ ,-, *, /):\")\n",
    "n1=float(input (\"enter the 1st num:\"))\n",
    "n2=float(input (\"enter the 2nd num:\"))\n",
    "n3=float(input (\"enter the 3rd num:\"))"
   ]
  },
  {
   "cell_type": "code",
   "execution_count": 47,
   "id": "758e4b4e-b54a-4515-b0f2-fb8299d2672f",
   "metadata": {},
   "outputs": [
    {
     "name": "stdout",
     "output_type": "stream",
     "text": [
      "12.0\n"
     ]
    }
   ],
   "source": [
    "if operator == \"+\":\n",
    "    result= n1+n2+n3\n",
    "    print(result)\n",
    "elif operator == \"-\":\n",
    "   result=n1-n2-n3\n",
    "   print(result)\n",
    "elif operator==\"*\":\n",
    "   result=n1 * n2*n3\n",
    "   print(result)\n",
    "elif operator==\"/\":\n",
    "   result=n1 / n2/n3\n",
    "   print(result) \n",
    "else:\n",
    "   print(f\"{operator}is not a valled oprator\")"
   ]
  },
  {
   "cell_type": "code",
   "execution_count": 54,
   "id": "2aa801ee-71d6-4639-8a2b-09a4c2545724",
   "metadata": {},
   "outputs": [
    {
     "name": "stdout",
     "output_type": "stream",
     "text": [
      "Hello, World!\n"
     ]
    }
   ],
   "source": [
    "print('Hello, World!')"
   ]
  },
  {
   "cell_type": "code",
   "execution_count": 52,
   "id": "c8e333d1-943f-4078-ba36-433b977ff891",
   "metadata": {},
   "outputs": [
    {
     "name": "stdin",
     "output_type": "stream",
     "text": [
      "enter the number: 3\n",
      "enter the number: 5\n"
     ]
    }
   ],
   "source": [
    "a = int(input(\"enter the number:\"))\n",
    "b = int(input(\"enter the number:\"))\n",
    "n1=a+b\n",
    "n2=a-b\n",
    "n3=a*b"
   ]
  },
  {
   "cell_type": "code",
   "execution_count": 53,
   "id": "2d323cf7-6cfb-41a2-a234-12026ac309d0",
   "metadata": {},
   "outputs": [
    {
     "name": "stdout",
     "output_type": "stream",
     "text": [
      "8\n"
     ]
    }
   ],
   "source": [
    "print(n1)"
   ]
  },
  {
   "cell_type": "code",
   "execution_count": 55,
   "id": "865c253c-6722-4f25-b4ac-8064e8e7ef4c",
   "metadata": {},
   "outputs": [
    {
     "data": {
      "text/plain": [
       "2.5"
      ]
     },
     "execution_count": 55,
     "metadata": {},
     "output_type": "execute_result"
    }
   ],
   "source": [
    "5/2"
   ]
  },
  {
   "cell_type": "code",
   "execution_count": 56,
   "id": "6fa7c410-dfb2-44ff-8e72-4b46ae4c986b",
   "metadata": {},
   "outputs": [
    {
     "data": {
      "text/plain": [
       "2"
      ]
     },
     "execution_count": 56,
     "metadata": {},
     "output_type": "execute_result"
    }
   ],
   "source": [
    "5//2"
   ]
  },
  {
   "cell_type": "code",
   "execution_count": 57,
   "id": "c13c1091-4ebd-4a72-8d32-ce47e3d9c537",
   "metadata": {},
   "outputs": [
    {
     "data": {
      "text/plain": [
       "1"
      ]
     },
     "execution_count": 57,
     "metadata": {},
     "output_type": "execute_result"
    }
   ],
   "source": [
    "5%2"
   ]
  },
  {
   "cell_type": "code",
   "execution_count": 58,
   "id": "385f6eab-cc4f-4ad3-9065-dbb5c00df37a",
   "metadata": {},
   "outputs": [
    {
     "data": {
      "text/plain": [
       "3"
      ]
     },
     "execution_count": 58,
     "metadata": {},
     "output_type": "execute_result"
    }
   ],
   "source": [
    "6//2"
   ]
  },
  {
   "cell_type": "code",
   "execution_count": 59,
   "id": "e4f661a7-a6e9-40c0-8c43-b20fd7a45d1e",
   "metadata": {},
   "outputs": [
    {
     "data": {
      "text/plain": [
       "3"
      ]
     },
     "execution_count": 59,
     "metadata": {},
     "output_type": "execute_result"
    }
   ],
   "source": [
    "7//2"
   ]
  },
  {
   "cell_type": "code",
   "execution_count": null,
   "id": "0973d4e9-13e3-442d-9d83-7bf5787acfe5",
   "metadata": {},
   "outputs": [],
   "source": []
  },
  {
   "cell_type": "code",
   "execution_count": null,
   "id": "66b2cedd-b26c-4110-93de-7505b9ad65c8",
   "metadata": {},
   "outputs": [],
   "source": [
    "io"
   ]
  },
  {
   "cell_type": "code",
   "execution_count": null,
   "id": "c69e6d75-19c2-4391-8dbf-8e31b34a1be5",
   "metadata": {},
   "outputs": [],
   "source": []
  },
  {
   "cell_type": "code",
   "execution_count": null,
   "id": "7168dfcb-7095-406f-815a-9fbf26262e84",
   "metadata": {},
   "outputs": [],
   "source": []
  },
  {
   "cell_type": "markdown",
   "id": "b91645e7-8ca2-4db9-923c-2195e60bebf8",
   "metadata": {},
   "source": [
    "# Heading 1"
   ]
  },
  {
   "cell_type": "markdown",
   "id": "ac74ea8f-64c9-42a6-a25a-cf963d8507c1",
   "metadata": {},
   "source": [
    "## Loops"
   ]
  },
  {
   "cell_type": "markdown",
   "id": "6ee22ffc-13ec-4017-abe2-e1557b246992",
   "metadata": {},
   "source": [
    "for "
   ]
  },
  {
   "cell_type": "markdown",
   "id": "00b7824a-3446-416e-b1a0-aa9ff7279fbb",
   "metadata": {},
   "source": [
    "for i in range(10):\n",
    "    print(i)"
   ]
  },
  {
   "cell_type": "code",
   "execution_count": 63,
   "id": "8180823c-85b0-4dd8-a434-d6bc1d2c096a",
   "metadata": {},
   "outputs": [
    {
     "name": "stdout",
     "output_type": "stream",
     "text": [
      "hello test\n"
     ]
    }
   ],
   "source": [
    "# print(\"hello\")\n",
    "print(\"hello test\")"
   ]
  },
  {
   "cell_type": "code",
   "execution_count": null,
   "id": "be89904f-4e79-4e48-adfe-fd7b8eafa3b0",
   "metadata": {},
   "outputs": [],
   "source": []
  },
  {
   "cell_type": "code",
   "execution_count": 64,
   "id": "196e7c7d-ee5a-4f05-8c5e-0f92750c97a0",
   "metadata": {},
   "outputs": [
    {
     "data": {
      "text/plain": [
       "range(0, 10)"
      ]
     },
     "execution_count": 64,
     "metadata": {},
     "output_type": "execute_result"
    }
   ],
   "source": [
    "range(10)"
   ]
  },
  {
   "cell_type": "code",
   "execution_count": 65,
   "id": "b240df49-2845-4ac8-98cd-b66959c9a8c5",
   "metadata": {},
   "outputs": [
    {
     "data": {
      "text/plain": [
       "[0, 1, 2, 3, 4, 5, 6, 7, 8, 9]"
      ]
     },
     "execution_count": 65,
     "metadata": {},
     "output_type": "execute_result"
    }
   ],
   "source": [
    "list(range(10))"
   ]
  },
  {
   "cell_type": "code",
   "execution_count": 66,
   "id": "b7bfee79-d2ad-47b8-b82e-bd00c39380c2",
   "metadata": {},
   "outputs": [
    {
     "data": {
      "text/plain": [
       "[0, 1, 2, 3, 4, 5, 6, 7, 8, 9]"
      ]
     },
     "execution_count": 66,
     "metadata": {},
     "output_type": "execute_result"
    }
   ],
   "source": [
    "list(range(0,10))"
   ]
  },
  {
   "cell_type": "code",
   "execution_count": 67,
   "id": "b90ee36b-2c78-42ac-b889-f90db5fac81b",
   "metadata": {},
   "outputs": [
    {
     "data": {
      "text/plain": [
       "[0, 3, 6, 9]"
      ]
     },
     "execution_count": 67,
     "metadata": {},
     "output_type": "execute_result"
    }
   ],
   "source": [
    "list(range(0,10,3))"
   ]
  },
  {
   "cell_type": "code",
   "execution_count": 66,
   "id": "d94fc80a-c7b7-4e98-b249-0b49652abeb2",
   "metadata": {},
   "outputs": [
    {
     "data": {
      "text/plain": [
       "[0, 1, 2, 3, 4, 5, 6, 7, 8, 9]"
      ]
     },
     "execution_count": 66,
     "metadata": {},
     "output_type": "execute_result"
    }
   ],
   "source": [
    "list(range(0,10))"
   ]
  },
  {
   "cell_type": "code",
   "execution_count": 68,
   "id": "8a3e9963-a39b-45c8-9198-946d6a098231",
   "metadata": {},
   "outputs": [
    {
     "data": {
      "text/plain": [
       "[0, 4, 8]"
      ]
     },
     "execution_count": 68,
     "metadata": {},
     "output_type": "execute_result"
    }
   ],
   "source": [
    "list(range(0,10,4))"
   ]
  },
  {
   "cell_type": "code",
   "execution_count": 71,
   "id": "78246d4e-542f-4ade-93a6-6f7e298590b2",
   "metadata": {},
   "outputs": [
    {
     "data": {
      "text/plain": [
       "[-100,\n",
       " -96,\n",
       " -92,\n",
       " -88,\n",
       " -84,\n",
       " -80,\n",
       " -76,\n",
       " -72,\n",
       " -68,\n",
       " -64,\n",
       " -60,\n",
       " -56,\n",
       " -52,\n",
       " -48,\n",
       " -44,\n",
       " -40,\n",
       " -36,\n",
       " -32,\n",
       " -28,\n",
       " -24,\n",
       " -20,\n",
       " -16,\n",
       " -12]"
      ]
     },
     "execution_count": 71,
     "metadata": {},
     "output_type": "execute_result"
    }
   ],
   "source": [
    "list(range(-100,-10,4))"
   ]
  },
  {
   "cell_type": "code",
   "execution_count": 72,
   "id": "1bd6f9a3-fd4d-4b2a-9a33-c52e4bb9709d",
   "metadata": {},
   "outputs": [
    {
     "name": "stdout",
     "output_type": "stream",
     "text": [
      "0\n",
      "1\n",
      "2\n",
      "3\n",
      "4\n",
      "5\n",
      "6\n",
      "7\n",
      "8\n",
      "9\n"
     ]
    }
   ],
   "source": [
    "for i in range(10):\n",
    "    print(i)"
   ]
  },
  {
   "cell_type": "code",
   "execution_count": 73,
   "id": "b4cb7020-39c3-4380-ae1b-de004c97d352",
   "metadata": {},
   "outputs": [],
   "source": [
    "import os"
   ]
  },
  {
   "cell_type": "code",
   "execution_count": 74,
   "id": "8e934a77-be90-4c96-8b69-27e2a8be920b",
   "metadata": {},
   "outputs": [
    {
     "data": {
      "text/plain": [
       "['saif', 'pylearnq.ipynb', '.ipynb_checkpoints', 'Python']"
      ]
     },
     "execution_count": 74,
     "metadata": {},
     "output_type": "execute_result"
    }
   ],
   "source": [
    "os.listdir()"
   ]
  },
  {
   "cell_type": "code",
   "execution_count": 75,
   "id": "e04d3180-b575-4abe-b9f1-f9c325ca14af",
   "metadata": {},
   "outputs": [
    {
     "name": "stdout",
     "output_type": "stream",
     "text": [
      "saif\n",
      "pylearnq.ipynb\n",
      ".ipynb_checkpoints\n",
      "Python\n"
     ]
    }
   ],
   "source": [
    "for i in os.listdir():\n",
    "    print(i)"
   ]
  },
  {
   "cell_type": "code",
   "execution_count": 77,
   "id": "158086cf-8137-4a6e-aa51-3ddff3815ab1",
   "metadata": {},
   "outputs": [
    {
     "name": "stdout",
     "output_type": "stream",
     "text": [
      "saif\n"
     ]
    }
   ],
   "source": [
    "for i in os.listdir():\n",
    "    if i.startswith(\"sa\"):\n",
    "        print(i)"
   ]
  },
  {
   "cell_type": "code",
   "execution_count": 93,
   "id": "679ab840-8164-43b1-bfff-4fc58dafa169",
   "metadata": {},
   "outputs": [
    {
     "name": "stdout",
     "output_type": "stream",
     "text": [
      "['CLD_CONTINUED', 'CLD_DUMPED', 'CLD_EXITED', 'CLD_KILLED', 'CLD_STOPPED', 'CLD_TRAPPED', 'DirEntry', 'EFD_CLOEXEC', 'EFD_NONBLOCK', 'EFD_SEMAPHORE', 'EX_CANTCREAT', 'EX_CONFIG', 'EX_DATAERR', 'EX_IOERR', 'EX_NOHOST', 'EX_NOINPUT', 'EX_NOPERM', 'EX_NOUSER', 'EX_OK', 'EX_OSERR', 'EX_OSFILE', 'EX_PROTOCOL', 'EX_SOFTWARE', 'EX_TEMPFAIL', 'EX_UNAVAILABLE', 'EX_USAGE', 'F_LOCK', 'F_OK', 'F_TEST', 'F_TLOCK', 'F_ULOCK', 'GRND_NONBLOCK', 'GRND_RANDOM', 'GenericAlias', 'MFD_ALLOW_SEALING', 'MFD_CLOEXEC', 'MFD_HUGETLB', 'MFD_HUGE_16GB', 'MFD_HUGE_16MB', 'MFD_HUGE_1GB', 'MFD_HUGE_1MB', 'MFD_HUGE_256MB', 'MFD_HUGE_2GB', 'MFD_HUGE_2MB', 'MFD_HUGE_32MB', 'MFD_HUGE_512KB', 'MFD_HUGE_512MB', 'MFD_HUGE_64KB', 'MFD_HUGE_8MB', 'MFD_HUGE_MASK', 'MFD_HUGE_SHIFT', 'Mapping', 'MutableMapping', 'NGROUPS_MAX', 'O_ACCMODE', 'O_APPEND', 'O_ASYNC', 'O_CLOEXEC', 'O_CREAT', 'O_DIRECT', 'O_DIRECTORY', 'O_DSYNC', 'O_EXCL', 'O_FSYNC', 'O_LARGEFILE', 'O_NDELAY', 'O_NOATIME', 'O_NOCTTY', 'O_NOFOLLOW', 'O_NONBLOCK', 'O_PATH', 'O_RDONLY', 'O_RDWR', 'O_RSYNC', 'O_SYNC', 'O_TMPFILE', 'O_TRUNC', 'O_WRONLY', 'POSIX_FADV_DONTNEED', 'POSIX_FADV_NOREUSE', 'POSIX_FADV_NORMAL', 'POSIX_FADV_RANDOM', 'POSIX_FADV_SEQUENTIAL', 'POSIX_FADV_WILLNEED', 'POSIX_SPAWN_CLOSE', 'POSIX_SPAWN_DUP2', 'POSIX_SPAWN_OPEN', 'PRIO_PGRP', 'PRIO_PROCESS', 'PRIO_USER', 'P_ALL', 'P_NOWAIT', 'P_NOWAITO', 'P_PGID', 'P_PID', 'P_PIDFD', 'P_WAIT', 'PathLike', 'RTLD_DEEPBIND', 'RTLD_GLOBAL', 'RTLD_LAZY', 'RTLD_LOCAL', 'RTLD_NODELETE', 'RTLD_NOLOAD', 'RTLD_NOW', 'RWF_APPEND', 'RWF_DSYNC', 'RWF_HIPRI', 'RWF_NOWAIT', 'RWF_SYNC', 'R_OK', 'SCHED_BATCH', 'SCHED_FIFO', 'SCHED_IDLE', 'SCHED_OTHER', 'SCHED_RESET_ON_FORK', 'SCHED_RR', 'SEEK_CUR', 'SEEK_DATA', 'SEEK_END', 'SEEK_HOLE', 'SEEK_SET', 'SPLICE_F_MORE', 'SPLICE_F_MOVE', 'SPLICE_F_NONBLOCK', 'ST_APPEND', 'ST_MANDLOCK', 'ST_NOATIME', 'ST_NODEV', 'ST_NODIRATIME', 'ST_NOEXEC', 'ST_NOSUID', 'ST_RDONLY', 'ST_RELATIME', 'ST_SYNCHRONOUS', 'ST_WRITE', 'TMP_MAX', 'WCONTINUED', 'WCOREDUMP', 'WEXITED', 'WEXITSTATUS', 'WIFCONTINUED', 'WIFEXITED', 'WIFSIGNALED', 'WIFSTOPPED', 'WNOHANG', 'WNOWAIT', 'WSTOPPED', 'WSTOPSIG', 'WTERMSIG', 'WUNTRACED', 'W_OK', 'XATTR_CREATE', 'XATTR_REPLACE', 'XATTR_SIZE_MAX', 'X_OK', '_Environ', '__all__', '__builtins__', '__doc__', '__file__', '__loader__', '__name__', '__package__', '__spec__', '_check_methods', '_execvpe', '_exists', '_exit', '_fspath', '_fwalk', '_get_exports_list', '_spawnvef', '_walk', '_wrap_close', 'abc', 'abort', 'access', 'altsep', 'chdir', 'chmod', 'chown', 'chroot', 'close', 'closerange', 'confstr', 'confstr_names', 'copy_file_range', 'cpu_count', 'ctermid', 'curdir', 'defpath', 'device_encoding', 'devnull', 'dup', 'dup2', 'environ', 'environb', 'error', 'eventfd', 'eventfd_read', 'eventfd_write', 'execl', 'execle', 'execlp', 'execlpe', 'execv', 'execve', 'execvp', 'execvpe', 'extsep', 'fchdir', 'fchmod', 'fchown', 'fdatasync', 'fdopen', 'fork', 'forkpty', 'fpathconf', 'fsdecode', 'fsencode', 'fspath', 'fstat', 'fstatvfs', 'fsync', 'ftruncate', 'fwalk', 'get_blocking', 'get_exec_path', 'get_inheritable', 'get_terminal_size', 'getcwd', 'getcwdb', 'getegid', 'getenv', 'getenvb', 'geteuid', 'getgid', 'getgrouplist', 'getgroups', 'getloadavg', 'getlogin', 'getpgid', 'getpgrp', 'getpid', 'getppid', 'getpriority', 'getrandom', 'getresgid', 'getresuid', 'getsid', 'getuid', 'getxattr', 'initgroups', 'isatty', 'kill', 'killpg', 'lchown', 'linesep', 'link', 'listdir', 'listxattr', 'lockf', 'login_tty', 'lseek', 'lstat', 'major', 'makedev', 'makedirs', 'memfd_create', 'minor', 'mkdir', 'mkfifo', 'mknod', 'name', 'nice', 'open', 'openpty', 'pardir', 'path', 'pathconf', 'pathconf_names', 'pathsep', 'pidfd_open', 'pipe', 'pipe2', 'popen', 'posix_fadvise', 'posix_fallocate', 'posix_spawn', 'posix_spawnp', 'pread', 'preadv', 'putenv', 'pwrite', 'pwritev', 'read', 'readlink', 'readv', 'register_at_fork', 'remove', 'removedirs', 'removexattr', 'rename', 'renames', 'replace', 'rmdir', 'scandir', 'sched_get_priority_max', 'sched_get_priority_min', 'sched_getaffinity', 'sched_getparam', 'sched_getscheduler', 'sched_param', 'sched_rr_get_interval', 'sched_setaffinity', 'sched_setparam', 'sched_setscheduler', 'sched_yield', 'sendfile', 'sep', 'set_blocking', 'set_inheritable', 'setegid', 'seteuid', 'setgid', 'setgroups', 'setpgid', 'setpgrp', 'setpriority', 'setregid', 'setresgid', 'setresuid', 'setreuid', 'setsid', 'setuid', 'setxattr', 'spawnl', 'spawnle', 'spawnlp', 'spawnlpe', 'spawnv', 'spawnve', 'spawnvp', 'spawnvpe', 'splice', 'st', 'stat', 'stat_result', 'statvfs', 'statvfs_result', 'strerror', 'supports_bytes_environ', 'supports_dir_fd', 'supports_effective_ids', 'supports_fd', 'supports_follow_symlinks', 'symlink', 'sync', 'sys', 'sysconf', 'sysconf_names', 'system', 'tcgetpgrp', 'tcsetpgrp', 'terminal_size', 'times', 'times_result', 'truncate', 'ttyname', 'umask', 'uname', 'uname_result', 'unlink', 'unsetenv', 'urandom', 'utime', 'wait', 'wait3', 'wait4', 'waitid', 'waitid_result', 'waitpid', 'waitstatus_to_exitcode', 'walk', 'write', 'writev']\n"
     ]
    }
   ],
   "source": [
    "print(dir(os))"
   ]
  },
  {
   "cell_type": "code",
   "execution_count": 92,
   "id": "f731f9aa-dfe3-47cd-9c29-a0b78708ef79",
   "metadata": {},
   "outputs": [
    {
     "name": "stdout",
     "output_type": "stream",
     "text": [
      "/home/saif/learn/prac/Python\n"
     ]
    }
   ],
   "source": [
    "!pwd"
   ]
  },
  {
   "cell_type": "code",
   "execution_count": 95,
   "id": "c769ce88-bf2c-44cc-a9d1-b081f18a56c6",
   "metadata": {},
   "outputs": [
    {
     "name": "stdout",
     "output_type": "stream",
     "text": [
      "['Numpy.ipynb', 'Python connecting with sqlite3.ipynb', 'Part-3 Python Conditional statements, if elif and else.ipynb', 'Part-2 Python Data Structure Methods.ipynb', 'Part-6 File and Folder handling.ipynb', '.ipynb_checkpoints', '.git', 'Pandas.ipynb', 'Part-4 Python Loops, Pass, Continue and Break.ipynb', 'Housing.csv', 'test.csv', 'pic.png', '__int__.py', 'main', 'pict.png', 'pict2.jpeg', 'Part-1 Python Basics.ipynb', 'Part-5  Python Functions, List comprehension, Map, Filter and Reduce.ipynb', 'Python connecting with MySQL.ipynb']\n"
     ]
    }
   ],
   "source": [
    "path=r\"/home/saif/learn/prac\"\n",
    "os.chdir(path)\n",
    "for i in os.listdir(path=path):\n",
    "    if i.startswith(\"Python2\"):\n",
    "        os.chdir(\"Python\")\n",
    "        print(os.listdir())\n",
    "    elif i.startswith(\"Python\"):\n",
    "        os.chdir(\"Python\")\n",
    "        print(os.listdir())"
   ]
  },
  {
   "cell_type": "code",
   "execution_count": 80,
   "id": "241e0eaa-2c46-4a31-9b63-c58945de41ba",
   "metadata": {},
   "outputs": [
    {
     "data": {
      "text/plain": [
       "'.'"
      ]
     },
     "execution_count": 80,
     "metadata": {},
     "output_type": "execute_result"
    }
   ],
   "source": [
    "os.curdir"
   ]
  },
  {
   "cell_type": "code",
   "execution_count": 81,
   "id": "843dbc71-7612-46ca-8375-ad1bc8377c35",
   "metadata": {},
   "outputs": [
    {
     "name": "stdout",
     "output_type": "stream",
     "text": [
      "/home/saif/learn/prac\n"
     ]
    }
   ],
   "source": [
    "!pwd"
   ]
  },
  {
   "cell_type": "code",
   "execution_count": 94,
   "id": "4c22b76b-baa1-4af8-a03b-6bfc0859a29e",
   "metadata": {},
   "outputs": [
    {
     "data": {
      "text/plain": [
       "'/home/saif/learn/prac/Python'"
      ]
     },
     "execution_count": 94,
     "metadata": {},
     "output_type": "execute_result"
    }
   ],
   "source": [
    "os.getcwd()"
   ]
  },
  {
   "cell_type": "code",
   "execution_count": null,
   "id": "9d3c9ed7-feed-4d84-bbe4-3027eb08be61",
   "metadata": {},
   "outputs": [],
   "source": []
  },
  {
   "cell_type": "code",
   "execution_count": 96,
   "id": "baa74ade-349d-4538-bcce-dbcb8c6a6618",
   "metadata": {},
   "outputs": [
    {
     "data": {
      "text/plain": [
       "'/home/saif/learn/prac'"
      ]
     },
     "execution_count": 96,
     "metadata": {},
     "output_type": "execute_result"
    }
   ],
   "source": [
    "path"
   ]
  },
  {
   "cell_type": "code",
   "execution_count": 104,
   "id": "a437bf65-811b-4e1c-8173-bac04486dd11",
   "metadata": {},
   "outputs": [],
   "source": [
    "# for root, dirs, files in os.walk(path):\n",
    "#         # if name in files:\n",
    "#             # result.append(os.path.join(root, name))\n",
    "#     if files:\n",
    "#         for i in files:\n",
    "#             if i.endswith(\".py\"):\n",
    "#                 print(i)"
   ]
  },
  {
   "cell_type": "code",
   "execution_count": 108,
   "id": "242bead8-89ff-4924-a692-73438fcab63a",
   "metadata": {},
   "outputs": [
    {
     "name": "stdout",
     "output_type": "stream",
     "text": [
      "0\n",
      "2\n",
      "4\n",
      "6\n",
      "8\n"
     ]
    }
   ],
   "source": [
    "for i in list(range(10)):\n",
    "    if i%2==0:\n",
    "        print(i)"
   ]
  },
  {
   "cell_type": "code",
   "execution_count": 109,
   "id": "8cd1679f-c5bf-49a8-a109-c53f3ff55e99",
   "metadata": {},
   "outputs": [
    {
     "name": "stdout",
     "output_type": "stream",
     "text": [
      "1\n",
      "3\n",
      "5\n",
      "7\n",
      "9\n"
     ]
    }
   ],
   "source": [
    "for i in list(range(10)):\n",
    "    if i%2!=0:\n",
    "        print(i)"
   ]
  },
  {
   "cell_type": "code",
   "execution_count": 107,
   "id": "52db153c-c8fa-44c9-bf69-0e5012c17c7b",
   "metadata": {},
   "outputs": [
    {
     "data": {
      "text/plain": [
       "[0, 1, 2, 3, 4, 5, 6, 7, 8, 9]"
      ]
     },
     "execution_count": 107,
     "metadata": {},
     "output_type": "execute_result"
    }
   ],
   "source": [
    "list(range(10))"
   ]
  },
  {
   "cell_type": "code",
   "execution_count": 116,
   "id": "6c3492d9-babe-4efc-ae0e-fc0784b3cc7b",
   "metadata": {},
   "outputs": [],
   "source": [
    "l=list(range(10))"
   ]
  },
  {
   "cell_type": "code",
   "execution_count": 111,
   "id": "1b70f954-ca04-4c82-b921-6ee9df81c15e",
   "metadata": {},
   "outputs": [
    {
     "data": {
      "text/plain": [
       "[0, 1, 2, 3, 4, 5, 6, 7, 8, 9]"
      ]
     },
     "execution_count": 111,
     "metadata": {},
     "output_type": "execute_result"
    }
   ],
   "source": [
    "l"
   ]
  },
  {
   "cell_type": "code",
   "execution_count": 112,
   "id": "ea03f8f7-47a5-4bb9-adbf-0d7a3d53ca2b",
   "metadata": {},
   "outputs": [],
   "source": [
    "l.append(100)"
   ]
  },
  {
   "cell_type": "code",
   "execution_count": 113,
   "id": "78198423-02d2-4d8e-ba41-75870db73460",
   "metadata": {},
   "outputs": [
    {
     "data": {
      "text/plain": [
       "[0, 1, 2, 3, 4, 5, 6, 7, 8, 9, 100]"
      ]
     },
     "execution_count": 113,
     "metadata": {},
     "output_type": "execute_result"
    }
   ],
   "source": [
    "l"
   ]
  },
  {
   "cell_type": "code",
   "execution_count": 114,
   "id": "c76bc17b-b45c-44c9-a6a3-c08f89b1664b",
   "metadata": {},
   "outputs": [],
   "source": [
    "l.clear()"
   ]
  },
  {
   "cell_type": "code",
   "execution_count": 115,
   "id": "24216cd8-3a8f-4cca-b604-fba42a33a2b0",
   "metadata": {},
   "outputs": [
    {
     "data": {
      "text/plain": [
       "[]"
      ]
     },
     "execution_count": 115,
     "metadata": {},
     "output_type": "execute_result"
    }
   ],
   "source": [
    "l"
   ]
  },
  {
   "cell_type": "code",
   "execution_count": 117,
   "id": "ad64e8f9-43e9-473a-b6cb-69db1a308141",
   "metadata": {},
   "outputs": [
    {
     "data": {
      "text/plain": [
       "[0, 1, 2, 3, 4, 5, 6, 7, 8, 9]"
      ]
     },
     "execution_count": 117,
     "metadata": {},
     "output_type": "execute_result"
    }
   ],
   "source": [
    "l"
   ]
  },
  {
   "cell_type": "code",
   "execution_count": 118,
   "id": "a0d0e261-5b3f-4127-ae34-ea4cbf8c6996",
   "metadata": {},
   "outputs": [],
   "source": [
    "l2=l.copy()"
   ]
  },
  {
   "cell_type": "code",
   "execution_count": 119,
   "id": "928632a5-3ef1-44ed-a274-fe7b8ff6d341",
   "metadata": {},
   "outputs": [
    {
     "data": {
      "text/plain": [
       "[0, 1, 2, 3, 4, 5, 6, 7, 8, 9]"
      ]
     },
     "execution_count": 119,
     "metadata": {},
     "output_type": "execute_result"
    }
   ],
   "source": [
    "l2"
   ]
  },
  {
   "cell_type": "code",
   "execution_count": 120,
   "id": "7e23004a-8c29-4c27-be7b-11ed3039e50c",
   "metadata": {},
   "outputs": [
    {
     "data": {
      "text/plain": [
       "1"
      ]
     },
     "execution_count": 120,
     "metadata": {},
     "output_type": "execute_result"
    }
   ],
   "source": [
    "l.count(4)"
   ]
  },
  {
   "cell_type": "code",
   "execution_count": 121,
   "id": "bab6dc1e-0f60-4e64-94fb-09927299e143",
   "metadata": {},
   "outputs": [],
   "source": [
    "l.append(4)"
   ]
  },
  {
   "cell_type": "code",
   "execution_count": 122,
   "id": "28b2cca3-91c7-4a82-a965-f6f5f61bc6b1",
   "metadata": {},
   "outputs": [
    {
     "data": {
      "text/plain": [
       "[0, 1, 2, 3, 4, 5, 6, 7, 8, 9, 4]"
      ]
     },
     "execution_count": 122,
     "metadata": {},
     "output_type": "execute_result"
    }
   ],
   "source": [
    "l"
   ]
  },
  {
   "cell_type": "code",
   "execution_count": 123,
   "id": "de0ffdeb-5257-410f-87eb-b81a0ef7dde2",
   "metadata": {},
   "outputs": [
    {
     "data": {
      "text/plain": [
       "2"
      ]
     },
     "execution_count": 123,
     "metadata": {},
     "output_type": "execute_result"
    }
   ],
   "source": [
    "l.count(4)"
   ]
  },
  {
   "cell_type": "code",
   "execution_count": 124,
   "id": "3cb60d3c-9afc-49a8-aa5c-b3784804b2bb",
   "metadata": {},
   "outputs": [],
   "source": [
    "l.extend([20,30])"
   ]
  },
  {
   "cell_type": "code",
   "execution_count": 125,
   "id": "c5032a70-aae3-4a75-8359-e99fdb5150f3",
   "metadata": {},
   "outputs": [
    {
     "data": {
      "text/plain": [
       "[0, 1, 2, 3, 4, 5, 6, 7, 8, 9, 4, 20, 30]"
      ]
     },
     "execution_count": 125,
     "metadata": {},
     "output_type": "execute_result"
    }
   ],
   "source": [
    "l"
   ]
  },
  {
   "cell_type": "code",
   "execution_count": 129,
   "id": "0e5e326b-8e9e-4733-8f30-12e7e553a3cc",
   "metadata": {},
   "outputs": [
    {
     "data": {
      "text/plain": [
       "[0, 1, 2, 3, 4, 5, 6, 7, 8, 9, 4, 20, 30, 100, 200]"
      ]
     },
     "execution_count": 129,
     "metadata": {},
     "output_type": "execute_result"
    }
   ],
   "source": [
    "l + [100,200]"
   ]
  },
  {
   "cell_type": "code",
   "execution_count": 131,
   "id": "f827a70b-ac84-4642-9a30-9bc144c1e623",
   "metadata": {},
   "outputs": [],
   "source": [
    "l=l + [100,200]"
   ]
  },
  {
   "cell_type": "code",
   "execution_count": 132,
   "id": "07cd4d53-8257-4aef-91db-681589e4a286",
   "metadata": {},
   "outputs": [
    {
     "data": {
      "text/plain": [
       "[0, 1, 2, 3, 4, 5, 6, 7, 8, 9, 4, 20, 30, 100, 200]"
      ]
     },
     "execution_count": 132,
     "metadata": {},
     "output_type": "execute_result"
    }
   ],
   "source": [
    "l"
   ]
  },
  {
   "cell_type": "code",
   "execution_count": 133,
   "id": "982db129-5032-4db9-99e5-cdd69f52b388",
   "metadata": {},
   "outputs": [
    {
     "data": {
      "text/plain": [
       "13"
      ]
     },
     "execution_count": 133,
     "metadata": {},
     "output_type": "execute_result"
    }
   ],
   "source": [
    "l.index(100)"
   ]
  },
  {
   "cell_type": "code",
   "execution_count": 135,
   "id": "97a5ff2e-ed8f-447b-88b9-2a301d5b3ad7",
   "metadata": {},
   "outputs": [],
   "source": [
    "l.insert(0,5)"
   ]
  },
  {
   "cell_type": "code",
   "execution_count": 136,
   "id": "913a132b-d428-4aec-b60f-e667d09c39c9",
   "metadata": {},
   "outputs": [
    {
     "data": {
      "text/plain": [
       "[5, 0, 1, 2, 3, 4, 5, 6, 7, 8, 9, 4, 20, 30, 100, 200]"
      ]
     },
     "execution_count": 136,
     "metadata": {},
     "output_type": "execute_result"
    }
   ],
   "source": [
    "l"
   ]
  },
  {
   "cell_type": "code",
   "execution_count": 137,
   "id": "b9aa2f85-0344-416c-9343-2f38f8fdd523",
   "metadata": {},
   "outputs": [
    {
     "data": {
      "text/plain": [
       "[5, 0, 1, 2, 3, 4, 5, 6, 7, 8, 9, 4, 20, 30, 100, 200]"
      ]
     },
     "execution_count": 137,
     "metadata": {},
     "output_type": "execute_result"
    }
   ],
   "source": [
    "l"
   ]
  },
  {
   "cell_type": "code",
   "execution_count": 138,
   "id": "cf3a16a8-15ae-48d5-8e0a-881bab31e75f",
   "metadata": {},
   "outputs": [
    {
     "data": {
      "text/plain": [
       "200"
      ]
     },
     "execution_count": 138,
     "metadata": {},
     "output_type": "execute_result"
    }
   ],
   "source": [
    "l.pop()"
   ]
  },
  {
   "cell_type": "code",
   "execution_count": 139,
   "id": "bef9f45e-7c69-4f77-a08a-0b6a58ff0ded",
   "metadata": {},
   "outputs": [
    {
     "data": {
      "text/plain": [
       "[5, 0, 1, 2, 3, 4, 5, 6, 7, 8, 9, 4, 20, 30, 100]"
      ]
     },
     "execution_count": 139,
     "metadata": {},
     "output_type": "execute_result"
    }
   ],
   "source": [
    "l"
   ]
  },
  {
   "cell_type": "code",
   "execution_count": 143,
   "id": "05ff27c0-735d-4664-b0b3-e2bc2c03c20e",
   "metadata": {},
   "outputs": [
    {
     "ename": "ValueError",
     "evalue": "list.remove(x): x not in list",
     "output_type": "error",
     "traceback": [
      "\u001b[0;31m---------------------------------------------------------------------------\u001b[0m",
      "\u001b[0;31mValueError\u001b[0m                                Traceback (most recent call last)",
      "Cell \u001b[0;32mIn[143], line 1\u001b[0m\n\u001b[0;32m----> 1\u001b[0m \u001b[43ml\u001b[49m\u001b[38;5;241;43m.\u001b[39;49m\u001b[43mremove\u001b[49m\u001b[43m(\u001b[49m\u001b[38;5;241;43m20\u001b[39;49m\u001b[43m)\u001b[49m\n",
      "\u001b[0;31mValueError\u001b[0m: list.remove(x): x not in list"
     ]
    }
   ],
   "source": [
    "l.remove(20)"
   ]
  },
  {
   "cell_type": "code",
   "execution_count": 141,
   "id": "3bd6112a-2fbc-455f-a596-2add3ab218cd",
   "metadata": {},
   "outputs": [
    {
     "data": {
      "text/plain": [
       "[5, 0, 1, 2, 3, 4, 5, 6, 7, 8, 9, 4, 30, 100]"
      ]
     },
     "execution_count": 141,
     "metadata": {},
     "output_type": "execute_result"
    }
   ],
   "source": [
    "l"
   ]
  },
  {
   "cell_type": "code",
   "execution_count": 144,
   "id": "0279cf8d-75b4-4a87-bcc7-ebcf3818faef",
   "metadata": {},
   "outputs": [],
   "source": [
    "l.reverse()"
   ]
  },
  {
   "cell_type": "code",
   "execution_count": 145,
   "id": "6612649a-dec7-49b7-b910-4c4153364d74",
   "metadata": {},
   "outputs": [
    {
     "data": {
      "text/plain": [
       "[100, 30, 4, 9, 8, 7, 6, 5, 4, 3, 2, 1, 0, 5]"
      ]
     },
     "execution_count": 145,
     "metadata": {},
     "output_type": "execute_result"
    }
   ],
   "source": [
    "l"
   ]
  },
  {
   "cell_type": "code",
   "execution_count": 146,
   "id": "02e7a49a-c3d3-475f-ada3-c789614c489d",
   "metadata": {},
   "outputs": [],
   "source": [
    "l.sort()"
   ]
  },
  {
   "cell_type": "code",
   "execution_count": 147,
   "id": "8ae83793-9e80-41f5-8214-874e24896bce",
   "metadata": {},
   "outputs": [
    {
     "data": {
      "text/plain": [
       "[0, 1, 2, 3, 4, 4, 5, 5, 6, 7, 8, 9, 30, 100]"
      ]
     },
     "execution_count": 147,
     "metadata": {},
     "output_type": "execute_result"
    }
   ],
   "source": [
    "l"
   ]
  },
  {
   "cell_type": "code",
   "execution_count": 148,
   "id": "e6e1af11-9ae5-4fa0-b654-49537d8567e3",
   "metadata": {},
   "outputs": [],
   "source": [
    "l.sort(reverse=True)"
   ]
  },
  {
   "cell_type": "code",
   "execution_count": 149,
   "id": "0d56a278-a339-4948-946b-b319431c724b",
   "metadata": {},
   "outputs": [
    {
     "data": {
      "text/plain": [
       "[100, 30, 9, 8, 7, 6, 5, 5, 4, 4, 3, 2, 1, 0]"
      ]
     },
     "execution_count": 149,
     "metadata": {},
     "output_type": "execute_result"
    }
   ],
   "source": [
    "l"
   ]
  },
  {
   "cell_type": "code",
   "execution_count": 150,
   "id": "020761ee-73aa-46f5-8d7a-22a630f09442",
   "metadata": {},
   "outputs": [
    {
     "data": {
      "text/plain": [
       "[100, 30, 9, 8, 7, 6, 5, 5, 4, 4, 3, 2, 1, 0]"
      ]
     },
     "execution_count": 150,
     "metadata": {},
     "output_type": "execute_result"
    }
   ],
   "source": [
    "l"
   ]
  },
  {
   "cell_type": "code",
   "execution_count": 159,
   "id": "628504f3-0362-4680-a0d9-84865a4a9a7b",
   "metadata": {},
   "outputs": [],
   "source": [
    "l.reverse()"
   ]
  },
  {
   "cell_type": "code",
   "execution_count": 160,
   "id": "7aa42836-9ee6-4b50-8b4b-561197cb5c21",
   "metadata": {},
   "outputs": [
    {
     "data": {
      "text/plain": [
       "[100, 30, 9, 8, 7, 6, 5, 5, 4, 4, 3, 2, 1, 0]"
      ]
     },
     "execution_count": 160,
     "metadata": {},
     "output_type": "execute_result"
    }
   ],
   "source": [
    "l"
   ]
  },
  {
   "cell_type": "code",
   "execution_count": 161,
   "id": "0da480bc-2562-404d-a93c-10a8396de9dd",
   "metadata": {},
   "outputs": [
    {
     "ename": "SyntaxError",
     "evalue": "invalid syntax (2816829120.py, line 1)",
     "output_type": "error",
     "traceback": [
      "\u001b[0;36m  Cell \u001b[0;32mIn[161], line 1\u001b[0;36m\u001b[0m\n\u001b[0;31m    l.sort(*)\u001b[0m\n\u001b[0m            ^\u001b[0m\n\u001b[0;31mSyntaxError\u001b[0m\u001b[0;31m:\u001b[0m invalid syntax\n"
     ]
    }
   ],
   "source": [
    "l.sort()"
   ]
  },
  {
   "cell_type": "code",
   "execution_count": null,
   "id": "babf6c04-6981-42fc-896d-933b9331b81e",
   "metadata": {},
   "outputs": [],
   "source": []
  },
  {
   "cell_type": "code",
   "execution_count": null,
   "id": "17dfead6-549b-461b-ad2c-8f20084065fc",
   "metadata": {},
   "outputs": [],
   "source": []
  },
  {
   "cell_type": "code",
   "execution_count": 166,
   "id": "909b5da4-191d-43cf-ad01-85ba85345681",
   "metadata": {},
   "outputs": [],
   "source": [
    "def rev(list):\n",
    "    print(list.reverse())\n",
    "    return list.reverse()"
   ]
  },
  {
   "cell_type": "code",
   "execution_count": 181,
   "id": "a5d19b1d-7c3d-418a-b2ac-c8e8f05a6ce4",
   "metadata": {},
   "outputs": [],
   "source": [
    "def rev(a):\n",
    "    # print(a)\n",
    "    add=a+10\n",
    "    print(add)\n",
    "    return add"
   ]
  },
  {
   "cell_type": "code",
   "execution_count": 182,
   "id": "927eba0e-efe1-4ac6-9c8f-88429b058bcc",
   "metadata": {},
   "outputs": [
    {
     "name": "stdout",
     "output_type": "stream",
     "text": [
      "110\n"
     ]
    },
    {
     "data": {
      "text/plain": [
       "110"
      ]
     },
     "execution_count": 182,
     "metadata": {},
     "output_type": "execute_result"
    }
   ],
   "source": [
    "rev(100)"
   ]
  },
  {
   "cell_type": "code",
   "execution_count": 189,
   "id": "7762614e-7691-4551-8cb4-ffff2d5e6d28",
   "metadata": {},
   "outputs": [],
   "source": [
    "def test(b):\n",
    "    var=rev(b)*1000\n",
    "    print(var)\n",
    "    return [var]"
   ]
  },
  {
   "cell_type": "code",
   "execution_count": 190,
   "id": "aef665ec-d7f8-4ae0-a684-b7b0cc876c25",
   "metadata": {},
   "outputs": [
    {
     "name": "stdout",
     "output_type": "stream",
     "text": [
      "110\n",
      "110000\n"
     ]
    },
    {
     "data": {
      "text/plain": [
       "[110000]"
      ]
     },
     "execution_count": 190,
     "metadata": {},
     "output_type": "execute_result"
    }
   ],
   "source": [
    "test(100)"
   ]
  },
  {
   "cell_type": "code",
   "execution_count": 192,
   "id": "251b93c4-2ec8-4341-bf32-234c1d85a8ce",
   "metadata": {},
   "outputs": [
    {
     "name": "stdout",
     "output_type": "stream",
     "text": [
      "101\n",
      "102\n",
      "103\n"
     ]
    }
   ],
   "source": [
    "for i in [1,2,3]:\n",
    "    print(i+100)"
   ]
  },
  {
   "cell_type": "code",
   "execution_count": 193,
   "id": "6736ba7e-17b3-421c-ae21-7c8ff0b61b3f",
   "metadata": {},
   "outputs": [
    {
     "name": "stdout",
     "output_type": "stream",
     "text": [
      "101\n"
     ]
    }
   ],
   "source": [
    "for i in [1]:\n",
    "    print(i+100)"
   ]
  },
  {
   "cell_type": "code",
   "execution_count": 194,
   "id": "a19e4846-968b-483c-adf2-fcaca309d24c",
   "metadata": {},
   "outputs": [
    {
     "name": "stdout",
     "output_type": "stream",
     "text": [
      "101\n",
      "102\n",
      "103\n"
     ]
    }
   ],
   "source": [
    "for i in (1,2,3):\n",
    "    print(i+100)"
   ]
  },
  {
   "cell_type": "code",
   "execution_count": 195,
   "id": "516ddf2e-0b49-4fd1-ab4a-fd10e019b085",
   "metadata": {},
   "outputs": [
    {
     "name": "stdout",
     "output_type": "stream",
     "text": [
      "101\n",
      "102\n",
      "103\n"
     ]
    }
   ],
   "source": [
    "for i in {1,2,3}:\n",
    "    print(i+100)"
   ]
  },
  {
   "cell_type": "code",
   "execution_count": 196,
   "id": "e362195c-1d75-44f6-b002-ff8a692e0914",
   "metadata": {},
   "outputs": [
    {
     "name": "stdout",
     "output_type": "stream",
     "text": [
      "a\n",
      "b\n",
      "c\n"
     ]
    }
   ],
   "source": [
    "for i in {\"a\":1,\"b\":2,\"c\":3}:\n",
    "    print(i)"
   ]
  },
  {
   "cell_type": "code",
   "execution_count": 199,
   "id": "4a7b3974-d2de-42ce-8962-4c5fa13506c6",
   "metadata": {},
   "outputs": [
    {
     "ename": "AttributeError",
     "evalue": "'str' object has no attribute 'value'",
     "output_type": "error",
     "traceback": [
      "\u001b[0;31m---------------------------------------------------------------------------\u001b[0m",
      "\u001b[0;31mAttributeError\u001b[0m                            Traceback (most recent call last)",
      "Cell \u001b[0;32mIn[199], line 2\u001b[0m\n\u001b[1;32m      1\u001b[0m \u001b[38;5;28;01mfor\u001b[39;00m i \u001b[38;5;129;01min\u001b[39;00m {\u001b[38;5;124m\"\u001b[39m\u001b[38;5;124ma\u001b[39m\u001b[38;5;124m\"\u001b[39m:\u001b[38;5;241m1\u001b[39m,\u001b[38;5;124m\"\u001b[39m\u001b[38;5;124mb\u001b[39m\u001b[38;5;124m\"\u001b[39m:\u001b[38;5;241m2\u001b[39m,\u001b[38;5;124m\"\u001b[39m\u001b[38;5;124mc\u001b[39m\u001b[38;5;124m\"\u001b[39m:\u001b[38;5;241m3\u001b[39m}:\n\u001b[0;32m----> 2\u001b[0m     \u001b[38;5;28mprint\u001b[39m(\u001b[43mi\u001b[49m\u001b[38;5;241;43m.\u001b[39;49m\u001b[43mvalue\u001b[49m)\n",
      "\u001b[0;31mAttributeError\u001b[0m: 'str' object has no attribute 'value'"
     ]
    }
   ],
   "source": [
    "for i in {\"a\":1,\"b\":2,\"c\":3}:\n",
    "    print()"
   ]
  },
  {
   "cell_type": "code",
   "execution_count": 200,
   "id": "e060b16c-c831-44d1-b1c2-551d0a563e83",
   "metadata": {},
   "outputs": [
    {
     "name": "stdout",
     "output_type": "stream",
     "text": [
      "a\n",
      "b\n",
      "c\n"
     ]
    }
   ],
   "source": [
    "d={\"a\":1,\"b\":2,\"c\":3}\n",
    "for i in d:\n",
    "    print(i)"
   ]
  },
  {
   "cell_type": "code",
   "execution_count": 203,
   "id": "7c211888-7f6f-4c11-9547-6351f6b15a25",
   "metadata": {},
   "outputs": [
    {
     "name": "stdout",
     "output_type": "stream",
     "text": [
      "1\n",
      "2\n",
      "3\n"
     ]
    }
   ],
   "source": [
    "d={\"a\":1,\"b\":2,\"c\":3}\n",
    "for i in d:\n",
    "    print(d[i])"
   ]
  },
  {
   "cell_type": "code",
   "execution_count": 204,
   "id": "1a3b267e-59e4-44af-a628-0b4017204129",
   "metadata": {},
   "outputs": [
    {
     "data": {
      "text/plain": [
       "3"
      ]
     },
     "execution_count": 204,
     "metadata": {},
     "output_type": "execute_result"
    }
   ],
   "source": [
    "d[\"c\"]"
   ]
  },
  {
   "cell_type": "code",
   "execution_count": 205,
   "id": "8a1c7da7-dcc0-469b-8331-06fcacdc46bd",
   "metadata": {},
   "outputs": [],
   "source": [
    "d2=d.copy()"
   ]
  },
  {
   "cell_type": "code",
   "execution_count": 206,
   "id": "3ee63632-aeb9-4ae2-88ea-60ceeb793356",
   "metadata": {},
   "outputs": [
    {
     "data": {
      "text/plain": [
       "{'a': 1, 'b': 2, 'c': 3}"
      ]
     },
     "execution_count": 206,
     "metadata": {},
     "output_type": "execute_result"
    }
   ],
   "source": [
    "d2"
   ]
  },
  {
   "cell_type": "markdown",
   "id": "beb4596b-6d31-4dbf-94eb-62222a918c70",
   "metadata": {},
   "source": [
    "d.fromkeys([\"a\",\"b\"])"
   ]
  },
  {
   "cell_type": "code",
   "execution_count": 1,
   "id": "d47bd30c-eb0d-456a-8d54-393511ded0f2",
   "metadata": {},
   "outputs": [
    {
     "ename": "SyntaxError",
     "evalue": "invalid syntax (673927769.py, line 1)",
     "output_type": "error",
     "traceback": [
      "\u001b[0;36m  Cell \u001b[0;32mIn[1], line 1\u001b[0;36m\u001b[0m\n\u001b[0;31m    d.\u001b[0m\n\u001b[0m      ^\u001b[0m\n\u001b[0;31mSyntaxError\u001b[0m\u001b[0;31m:\u001b[0m invalid syntax\n"
     ]
    }
   ],
   "source": [
    "d."
   ]
  },
  {
   "cell_type": "markdown",
   "id": "78b1a652-e290-43b4-a1bf-947c1f1831f8",
   "metadata": {},
   "source": [
    "#python weight converter"
   ]
  },
  {
   "cell_type": "code",
   "execution_count": 13,
   "id": "96eee184-a279-4e9b-999c-422b741056e1",
   "metadata": {},
   "outputs": [
    {
     "name": "stdin",
     "output_type": "stream",
     "text": [
      "enter your name: mohammed saif younus\n"
     ]
    }
   ],
   "source": [
    "name=input(\"enter your name:\")"
   ]
  },
  {
   "cell_type": "code",
   "execution_count": 20,
   "id": "7b3c1a36-d928-4afb-bc82-a8273eb9563f",
   "metadata": {},
   "outputs": [
    {
     "name": "stdout",
     "output_type": "stream",
     "text": [
      "9\n"
     ]
    }
   ],
   "source": [
    "result=name.find('s')\n",
    "print(result)"
   ]
  },
  {
   "cell_type": "code",
   "execution_count": 21,
   "id": "f4aac705-ad39-4fed-8f71-a2e0f09285a5",
   "metadata": {},
   "outputs": [
    {
     "name": "stdout",
     "output_type": "stream",
     "text": [
      "20\n"
     ]
    }
   ],
   "source": [
    "result=len(name)\n",
    "print(result)"
   ]
  },
  {
   "cell_type": "code",
   "execution_count": 22,
   "id": "49f583b5-edb6-4d9b-b823-bf1e70ecb3fc",
   "metadata": {},
   "outputs": [
    {
     "name": "stdout",
     "output_type": "stream",
     "text": [
      "MOHAMMED SAIF YOUNUS\n"
     ]
    }
   ],
   "source": [
    "result=name.upper()\n",
    "print(result)"
   ]
  },
  {
   "cell_type": "code",
   "execution_count": 25,
   "id": "7f956f13-ed1d-4977-8576-cc8659d1b9e8",
   "metadata": {},
   "outputs": [
    {
     "name": "stdout",
     "output_type": "stream",
     "text": [
      "Mohammed saif younus\n"
     ]
    }
   ],
   "source": [
    "result=name.capitalize()\n",
    "print(result)"
   ]
  },
  {
   "cell_type": "code",
   "execution_count": 26,
   "id": "77cda599-977e-4eae-98a7-d88ac9c1c16a",
   "metadata": {},
   "outputs": [
    {
     "name": "stdout",
     "output_type": "stream",
     "text": [
      "mohammed saif younus\n"
     ]
    }
   ],
   "source": [
    "result=name.lower()\n",
    "print(result)"
   ]
  },
  {
   "cell_type": "code",
   "execution_count": 31,
   "id": "b78878b9-9596-4862-a647-6f73ee2bbc73",
   "metadata": {},
   "outputs": [
    {
     "name": "stdout",
     "output_type": "stream",
     "text": [
      "False\n"
     ]
    }
   ],
   "source": [
    "result=name.isdigit()\n",
    "print(result)"
   ]
  },
  {
   "cell_type": "code",
   "execution_count": 33,
   "id": "c56f5357-496a-4930-a154-71a779a6371f",
   "metadata": {},
   "outputs": [
    {
     "name": "stdout",
     "output_type": "stream",
     "text": [
      "False\n"
     ]
    }
   ],
   "source": [
    "result=name.isalpha()\n",
    "print(result)"
   ]
  },
  {
   "cell_type": "code",
   "execution_count": 1,
   "id": "2009df77-acd6-49ff-8364-934cf9b8fb53",
   "metadata": {
    "scrolled": true
   },
   "outputs": [
    {
     "ename": "SyntaxError",
     "evalue": "incomplete input (181050557.py, line 1)",
     "output_type": "error",
     "traceback": [
      "\u001b[0;36m  Cell \u001b[0;32mIn[1], line 1\u001b[0;36m\u001b[0m\n\u001b[0;31m    print(help(str)\u001b[0m\n\u001b[0m                   ^\u001b[0m\n\u001b[0;31mSyntaxError\u001b[0m\u001b[0;31m:\u001b[0m incomplete input\n"
     ]
    }
   ],
   "source": [
    "print(help(str)"
   ]
  },
  {
   "cell_type": "code",
   "execution_count": 2,
   "id": "f9f91103-d860-4597-982a-6aa701f042a7",
   "metadata": {},
   "outputs": [],
   "source": [
    "#num=int(input(\"enter the #num between 1-10\"))"
   ]
  },
  {
   "cell_type": "code",
   "execution_count": 22,
   "id": "893feead-8338-4f39-9abf-8e62f98bf9c3",
   "metadata": {},
   "outputs": [],
   "source": [
    "n=9"
   ]
  },
  {
   "cell_type": "code",
   "execution_count": 23,
   "id": "e7278622-6353-4a08-85b0-1bb2fe77f557",
   "metadata": {},
   "outputs": [
    {
     "name": "stdout",
     "output_type": "stream",
     "text": [
      "0\n",
      "1\n",
      "4\n",
      "9\n",
      "16\n",
      "25\n",
      "36\n",
      "49\n",
      "64\n"
     ]
    }
   ],
   "source": [
    "for i in range(n):\n",
    "       print (i**2)"
   ]
  },
  {
   "cell_type": "code",
   "execution_count": 2,
   "id": "f853af70-42fa-4064-805e-de5d3d2b76d6",
   "metadata": {},
   "outputs": [],
   "source": [
    "#n the Gregorian calendar, three conditions are used to identify leap years:\n",
    "#   The year can be evenly divided by 4, is a leap year, unless:\n",
    " #       The year can be evenly divided by 100, it is NOT a leap year, unless:\n",
    "  #          The year is also evenly divisible by 400. Then it is a leap year.\n",
    "#\n",
    "#This means that in the Gregorian calendar, the years 2000 and 2400 are leap years, while 1800, 1900, 2100, 2200, 2300 and 2500 are NOT leap years. \n"
   ]
  },
  {
   "cell_type": "markdown",
   "id": "4650f6d7-4dd4-4b2d-accb-fdd57aee8ec3",
   "metadata": {},
   "source": [
    "### Time function"
   ]
  },
  {
   "cell_type": "code",
   "execution_count": 25,
   "id": "9f07f7c5-d442-47d5-8714-66a76324f281",
   "metadata": {},
   "outputs": [],
   "source": [
    "import time"
   ]
  },
  {
   "cell_type": "code",
   "execution_count": 26,
   "id": "e1c0cd4b-62db-4b81-a15f-861f90f781b7",
   "metadata": {},
   "outputs": [
    {
     "name": "stdout",
     "output_type": "stream",
     "text": [
      "time up!\n"
     ]
    }
   ],
   "source": [
    "time.sleep(1*60)\n",
    "\n",
    "print(\"time up!\")"
   ]
  },
  {
   "cell_type": "code",
   "execution_count": null,
   "id": "2ae6e1cc-400e-4428-808a-65b8334f601b",
   "metadata": {},
   "outputs": [],
   "source": [
    "my_time =int(input(\"enter the time in seconds\"))"
   ]
  },
  {
   "cell_type": "code",
   "execution_count": 21,
   "id": "7d14065b-7f04-4589-8cee-28f725925839",
   "metadata": {},
   "outputs": [
    {
     "name": "stdout",
     "output_type": "stream",
     "text": [
      "5\n",
      "4\n",
      "3\n",
      "2\n",
      "1\n",
      "times up!\n"
     ]
    }
   ],
   "source": [
    "for x in range(my_time,0,-1):\n",
    "    print(x)\n",
    "    time.sleep(1)\n",
    "\n",
    "print(\"times up!\")"
   ]
  },
  {
   "cell_type": "code",
   "execution_count": 51,
   "id": "3dcd22a6-b366-4236-aa0f-563b5322a4f5",
   "metadata": {},
   "outputs": [
    {
     "name": "stdin",
     "output_type": "stream",
     "text": [
      "enter the time in seconds: 5\n"
     ]
    }
   ],
   "source": [
    "my_time =int(input(\"enter the time in seconds:\"))"
   ]
  },
  {
   "cell_type": "code",
   "execution_count": 52,
   "id": "01afb44b-00a8-423e-8cf7-4b13b9354ddc",
   "metadata": {},
   "outputs": [
    {
     "name": "stdout",
     "output_type": "stream",
     "text": [
      "00:00:05\n",
      "00:00:04\n",
      "00:00:03\n",
      "00:00:02\n",
      "00:00:01\n",
      "times up!\n"
     ]
    }
   ],
   "source": [
    "for x in range(my_time,0,-1):\n",
    "    seconds=x%60\n",
    "    minute=int(x/60) % 60\n",
    "    hours=int(x/3600)\n",
    "    print(f\"{hours:02}:{minute:02}:{seconds:02}\")\n",
    "    time.sleep(1)\n",
    "\n",
    "print(\"times up!\")"
   ]
  },
  {
   "cell_type": "code",
   "execution_count": 68,
   "id": "8073f772-dca9-49b5-90ca-b9b2ff0f50e2",
   "metadata": {},
   "outputs": [],
   "source": [
    "n=(\"1234567890\")"
   ]
  },
  {
   "cell_type": "code",
   "execution_count": 72,
   "id": "c1f10773-b6c0-46c6-b9c8-b9f5d93ff76a",
   "metadata": {},
   "outputs": [
    {
     "data": {
      "text/plain": [
       "'13579'"
      ]
     },
     "execution_count": 72,
     "metadata": {},
     "output_type": "execute_result"
    }
   ],
   "source": [
    "n[::2]"
   ]
  },
  {
   "cell_type": "code",
   "execution_count": 1,
   "id": "a5e34475-e93c-4dfa-b864-54e291da247a",
   "metadata": {},
   "outputs": [
    {
     "data": {
      "text/plain": [
       "\u001b[0;31mSignature:\u001b[0m \u001b[0mprint\u001b[0m\u001b[0;34m(\u001b[0m\u001b[0;34m*\u001b[0m\u001b[0margs\u001b[0m\u001b[0;34m,\u001b[0m \u001b[0msep\u001b[0m\u001b[0;34m=\u001b[0m\u001b[0;34m' '\u001b[0m\u001b[0;34m,\u001b[0m \u001b[0mend\u001b[0m\u001b[0;34m=\u001b[0m\u001b[0;34m'\\n'\u001b[0m\u001b[0;34m,\u001b[0m \u001b[0mfile\u001b[0m\u001b[0;34m=\u001b[0m\u001b[0;32mNone\u001b[0m\u001b[0;34m,\u001b[0m \u001b[0mflush\u001b[0m\u001b[0;34m=\u001b[0m\u001b[0;32mFalse\u001b[0m\u001b[0;34m)\u001b[0m\u001b[0;34m\u001b[0m\u001b[0;34m\u001b[0m\u001b[0m\n",
       "\u001b[0;31mDocstring:\u001b[0m\n",
       "Prints the values to a stream, or to sys.stdout by default.\n",
       "\n",
       "sep\n",
       "  string inserted between values, default a space.\n",
       "end\n",
       "  string appended after the last value, default a newline.\n",
       "file\n",
       "  a file-like object (stream); defaults to the current sys.stdout.\n",
       "flush\n",
       "  whether to forcibly flush the stream.\n",
       "\u001b[0;31mType:\u001b[0m      builtin_function_or_method"
      ]
     },
     "metadata": {},
     "output_type": "display_data"
    }
   ],
   "source": [
    "print?\n"
   ]
  },
  {
   "cell_type": "code",
   "execution_count": 2,
   "id": "eef6db6a-fb69-4be3-aade-33c133a2f4c0",
   "metadata": {},
   "outputs": [
    {
     "name": "stdout",
     "output_type": "stream",
     "text": [
      "1\n"
     ]
    }
   ],
   "source": [
    "print(0 or 1)"
   ]
  },
  {
   "cell_type": "code",
   "execution_count": 3,
   "id": "c1869f69-737b-404b-8b45-f676f8356c4a",
   "metadata": {},
   "outputs": [
    {
     "name": "stdout",
     "output_type": "stream",
     "text": [
      "<class 'float'>\n"
     ]
    }
   ],
   "source": [
    "print(type(6 / 3))"
   ]
  },
  {
   "cell_type": "code",
   "execution_count": null,
   "id": "06872c37-a64f-4f1b-a6cb-88212547943d",
   "metadata": {},
   "outputs": [],
   "source": []
  }
 ],
 "metadata": {
  "kernelspec": {
   "display_name": "Python 3 (ipykernel)",
   "language": "python",
   "name": "python3"
  },
  "language_info": {
   "codemirror_mode": {
    "name": "ipython",
    "version": 3
   },
   "file_extension": ".py",
   "mimetype": "text/x-python",
   "name": "python",
   "nbconvert_exporter": "python",
   "pygments_lexer": "ipython3",
   "version": "3.11.6"
  }
 },
 "nbformat": 4,
 "nbformat_minor": 5
}
